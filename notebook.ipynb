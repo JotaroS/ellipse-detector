{
 "cells": [
  {
   "cell_type": "code",
   "execution_count": 484,
   "metadata": {},
   "outputs": [],
   "source": [
    "import keras\n",
    "from keras.utils import np_utils\n",
    "from keras.layers.convolutional import Conv2D, MaxPooling2D\n",
    "from tensorflow.keras.models import Sequential\n",
    "from keras.layers.core import Dense, Dropout, Activation, Flatten\n",
    "from keras.layers import BatchNormalization\n",
    "from keras.preprocessing.image import array_to_img, img_to_array, load_img\n",
    "import numpy as np\n",
    "import pandas as pd\n",
    "from sklearn.model_selection import train_test_split\n",
    "import matplotlib.pyplot as plt\n",
    "import glob\n",
    "import json\n",
    "from sklearn.preprocessing import StandardScaler\n",
    "from tensorflow.keras.optimizers import Adam # - Works\n"
   ]
  },
  {
   "cell_type": "markdown",
   "metadata": {},
   "source": [
    "turning an image into array"
   ]
  },
  {
   "cell_type": "code",
   "execution_count": 485,
   "metadata": {},
   "outputs": [],
   "source": [
    "temp_img = load_img('./cropped/0.jpg', color_mode='grayscale')"
   ]
  },
  {
   "cell_type": "code",
   "execution_count": 486,
   "metadata": {},
   "outputs": [
    {
     "data": {
      "image/png": "[encoded data removed]",
      "text/plain": [
       "<PIL.JpegImagePlugin.JpegImageFile image mode=L size=128x128 at 0x226BA3D9040>"
      ]
     },
     "execution_count": 486,
     "metadata": {},
     "output_type": "execute_result"
    }
   ],
   "source": [
    "temp_img"
   ]
  },
  {
   "cell_type": "code",
   "execution_count": 487,
   "metadata": {},
   "outputs": [],
   "source": [
    "temp_img_array = img_to_array(temp_img)"
   ]
  },
  {
   "cell_type": "code",
   "execution_count": 488,
   "metadata": {},
   "outputs": [
    {
     "data": {
      "text/plain": [
       "(128, 128, 1)"
      ]
     },
     "execution_count": 488,
     "metadata": {},
     "output_type": "execute_result"
    }
   ],
   "source": [
    "temp_img_array.shape"
   ]
  },
  {
   "cell_type": "code",
   "execution_count": 546,
   "metadata": {},
   "outputs": [],
   "source": [
    "def generate_dataset():\n",
    "    X = []\n",
    "    Y = []\n",
    "    \n",
    "    # X\n",
    "    files = glob.glob('./cropped/*.jpg')\n",
    "    for f in files:\n",
    "        temp_img = load_img(f, color_mode='grayscale')\n",
    "        arr      = img_to_array(temp_img)\n",
    "        X.append(arr)\n",
    "    X = np.asarray(X)\n",
    "    X = X.astype('float32')\n",
    "    X = X / 255.0\n",
    "    \n",
    "    # Y\n",
    "    with open('labels.json') as f:\n",
    "        data = json.load(f)\n",
    "    for d in data:\n",
    "        y = [(d['center'][0]-64), (d['center'][1]-64)]\n",
    "        Y.append(y)\n",
    "    Y = np.asarray(Y)\n",
    "    Y = Y.astype('float32')\n",
    "    return X, Y"
   ]
  },
  {
   "cell_type": "code",
   "execution_count": 547,
   "metadata": {},
   "outputs": [],
   "source": [
    "X, Y = generate_dataset() # this takes a while, idk why."
   ]
  },
  {
   "cell_type": "code",
   "execution_count": 548,
   "metadata": {},
   "outputs": [
    {
     "data": {
      "text/plain": [
       "((10220, 128, 128, 1), (10220, 2))"
      ]
     },
     "execution_count": 548,
     "metadata": {},
     "output_type": "execute_result"
    }
   ],
   "source": [
    "X.shape, Y.shape"
   ]
  },
  {
   "cell_type": "code",
   "execution_count": 549,
   "metadata": {},
   "outputs": [],
   "source": [
    "X_train, X_test, y_train, y_test = train_test_split(X, Y, test_size=0.33, random_state=111)\n"
   ]
  },
  {
   "cell_type": "code",
   "execution_count": 550,
   "metadata": {},
   "outputs": [],
   "source": [
    "# CNNを構築\n",
    "model = Sequential()\n",
    "\n",
    "model.add(Conv2D(16, (3, 3), padding='same',\n",
    "                 input_shape=X_train.shape[1:]))\n",
    "model.add(Activation('relu'))\n",
    "model.add(Conv2D(16, (3, 3)))\n",
    "model.add(BatchNormalization())\n",
    "model.add(Activation('relu'))\n",
    "model.add(MaxPooling2D(pool_size=(2, 2)))\n",
    "model.add(Dropout(0.25))\n",
    "\n",
    "model.add(Conv2D(32, (3, 3), padding='same'))\n",
    "model.add(Activation('relu'))\n",
    "model.add(Conv2D(32, (3, 3)))\n",
    "model.add(BatchNormalization())\n",
    "model.add(Activation('relu'))\n",
    "model.add(MaxPooling2D(pool_size=(2, 2)))\n",
    "model.add(Dropout(0.25))\n",
    "\n",
    "model.add(Conv2D(64, (3, 3), padding='same'))\n",
    "model.add(Activation('relu'))\n",
    "model.add(Conv2D(64, (3, 3)))\n",
    "model.add(BatchNormalization())\n",
    "model.add(Activation('relu'))\n",
    "model.add(MaxPooling2D(pool_size=(2, 2)))\n",
    "model.add(Dropout(0.25))\n",
    "\n",
    "model.add(Flatten())\n",
    "model.add(Dense(512))\n",
    "model.add(Activation('relu'))\n",
    "model.add(Dropout(0.1))\n",
    "model.add(Dense(256))\n",
    "model.add(Activation('relu'))\n",
    "model.add(Dropout(0.1))\n",
    "model.add(Dense(2))\n",
    "# コンパイル\n",
    "model.compile(loss='mean_squared_error',\n",
    "              optimizer='adam',\n",
    "              metrics=['mean_squared_error'])\n",
    "\n"
   ]
  },
  {
   "cell_type": "code",
   "execution_count": 551,
   "metadata": {},
   "outputs": [
    {
     "name": "stdout",
     "output_type": "stream",
     "text": [
      "Epoch 1/100\n",
      "428/428 [==============================] - 7s 15ms/step - loss: 136.8680 - mean_squared_error: 136.8680 - val_loss: 671.2038 - val_mean_squared_error: 671.2038\n",
      "Epoch 2/100\n",
      "428/428 [==============================] - 6s 14ms/step - loss: 57.6494 - mean_squared_error: 57.6494 - val_loss: 46.9906 - val_mean_squared_error: 46.9906\n",
      "Epoch 3/100\n",
      "428/428 [==============================] - 6s 14ms/step - loss: 39.3867 - mean_squared_error: 39.3867 - val_loss: 44.2977 - val_mean_squared_error: 44.2977\n",
      "Epoch 4/100\n",
      "428/428 [==============================] - 6s 15ms/step - loss: 33.3891 - mean_squared_error: 33.3891 - val_loss: 22.2204 - val_mean_squared_error: 22.2204\n",
      "Epoch 5/100\n",
      "428/428 [==============================] - 6s 14ms/step - loss: 28.6820 - mean_squared_error: 28.6820 - val_loss: 36.7263 - val_mean_squared_error: 36.7263\n",
      "Epoch 6/100\n",
      "428/428 [==============================] - 7s 16ms/step - loss: 30.0681 - mean_squared_error: 30.0681 - val_loss: 51.7771 - val_mean_squared_error: 51.7771\n",
      "Epoch 7/100\n",
      "428/428 [==============================] - 7s 16ms/step - loss: 28.5478 - mean_squared_error: 28.5478 - val_loss: 30.2677 - val_mean_squared_error: 30.2677\n",
      "Epoch 8/100\n",
      "428/428 [==============================] - 7s 16ms/step - loss: 25.2699 - mean_squared_error: 25.2699 - val_loss: 20.3584 - val_mean_squared_error: 20.3584\n",
      "Epoch 9/100\n",
      "428/428 [==============================] - 7s 16ms/step - loss: 24.4470 - mean_squared_error: 24.4470 - val_loss: 25.2618 - val_mean_squared_error: 25.2618\n",
      "Epoch 10/100\n",
      "428/428 [==============================] - 6s 15ms/step - loss: 23.0023 - mean_squared_error: 23.0023 - val_loss: 56.2063 - val_mean_squared_error: 56.2063\n",
      "Epoch 11/100\n",
      "428/428 [==============================] - 6s 15ms/step - loss: 22.0413 - mean_squared_error: 22.0413 - val_loss: 17.2586 - val_mean_squared_error: 17.2586\n",
      "Epoch 12/100\n",
      "428/428 [==============================] - 6s 15ms/step - loss: 20.7216 - mean_squared_error: 20.7216 - val_loss: 22.5056 - val_mean_squared_error: 22.5056\n",
      "Epoch 13/100\n",
      "428/428 [==============================] - 7s 15ms/step - loss: 21.0753 - mean_squared_error: 21.0753 - val_loss: 51.8161 - val_mean_squared_error: 51.8161\n",
      "Epoch 14/100\n",
      "428/428 [==============================] - 7s 17ms/step - loss: 18.2248 - mean_squared_error: 18.2248 - val_loss: 20.2710 - val_mean_squared_error: 20.2710\n",
      "Epoch 15/100\n",
      "428/428 [==============================] - 7s 16ms/step - loss: 18.5070 - mean_squared_error: 18.5070 - val_loss: 25.5839 - val_mean_squared_error: 25.5839\n",
      "Epoch 16/100\n",
      "428/428 [==============================] - 7s 17ms/step - loss: 18.6608 - mean_squared_error: 18.6608 - val_loss: 16.1340 - val_mean_squared_error: 16.1340\n",
      "Epoch 17/100\n",
      "428/428 [==============================] - 7s 17ms/step - loss: 17.5438 - mean_squared_error: 17.5438 - val_loss: 23.9733 - val_mean_squared_error: 23.9733\n",
      "Epoch 18/100\n",
      "428/428 [==============================] - 6s 15ms/step - loss: 18.2045 - mean_squared_error: 18.2045 - val_loss: 22.1942 - val_mean_squared_error: 22.1942\n",
      "Epoch 19/100\n",
      "428/428 [==============================] - 6s 14ms/step - loss: 16.3601 - mean_squared_error: 16.3601 - val_loss: 12.7070 - val_mean_squared_error: 12.7070\n",
      "Epoch 20/100\n",
      "428/428 [==============================] - 6s 15ms/step - loss: 15.1780 - mean_squared_error: 15.1780 - val_loss: 13.1275 - val_mean_squared_error: 13.1275\n",
      "Epoch 21/100\n",
      "428/428 [==============================] - 7s 17ms/step - loss: 15.5510 - mean_squared_error: 15.5510 - val_loss: 18.5031 - val_mean_squared_error: 18.5031\n",
      "Epoch 22/100\n",
      "428/428 [==============================] - 6s 15ms/step - loss: 14.4497 - mean_squared_error: 14.4497 - val_loss: 15.7715 - val_mean_squared_error: 15.7715\n",
      "Epoch 23/100\n",
      "428/428 [==============================] - 6s 15ms/step - loss: 14.3989 - mean_squared_error: 14.3989 - val_loss: 17.1759 - val_mean_squared_error: 17.1759\n",
      "Epoch 24/100\n",
      "428/428 [==============================] - 7s 16ms/step - loss: 15.5295 - mean_squared_error: 15.5295 - val_loss: 13.2631 - val_mean_squared_error: 13.2631\n",
      "Epoch 25/100\n",
      "428/428 [==============================] - 6s 15ms/step - loss: 14.1515 - mean_squared_error: 14.1515 - val_loss: 14.0272 - val_mean_squared_error: 14.0272\n",
      "Epoch 26/100\n",
      "428/428 [==============================] - 6s 15ms/step - loss: 14.4236 - mean_squared_error: 14.4236 - val_loss: 18.5979 - val_mean_squared_error: 18.5979\n",
      "Epoch 27/100\n",
      "428/428 [==============================] - 7s 17ms/step - loss: 12.3992 - mean_squared_error: 12.3992 - val_loss: 11.3907 - val_mean_squared_error: 11.3907\n",
      "Epoch 28/100\n",
      "428/428 [==============================] - 7s 17ms/step - loss: 12.1703 - mean_squared_error: 12.1703 - val_loss: 18.2591 - val_mean_squared_error: 18.2591\n",
      "Epoch 29/100\n",
      "428/428 [==============================] - 7s 17ms/step - loss: 12.4038 - mean_squared_error: 12.4038 - val_loss: 11.3738 - val_mean_squared_error: 11.3738\n",
      "Epoch 30/100\n",
      "428/428 [==============================] - 6s 15ms/step - loss: 10.9275 - mean_squared_error: 10.9275 - val_loss: 16.4599 - val_mean_squared_error: 16.4599\n",
      "Epoch 31/100\n",
      "428/428 [==============================] - 8s 19ms/step - loss: 11.4675 - mean_squared_error: 11.4675 - val_loss: 9.5615 - val_mean_squared_error: 9.5615\n",
      "Epoch 32/100\n",
      "428/428 [==============================] - 7s 16ms/step - loss: 11.4954 - mean_squared_error: 11.4954 - val_loss: 12.0563 - val_mean_squared_error: 12.0563\n",
      "Epoch 33/100\n",
      "428/428 [==============================] - 6s 15ms/step - loss: 11.8466 - mean_squared_error: 11.8466 - val_loss: 13.0763 - val_mean_squared_error: 13.0763\n",
      "Epoch 34/100\n",
      "428/428 [==============================] - 8s 18ms/step - loss: 10.6527 - mean_squared_error: 10.6527 - val_loss: 14.2400 - val_mean_squared_error: 14.2400\n",
      "Epoch 35/100\n",
      "428/428 [==============================] - 6s 15ms/step - loss: 11.2939 - mean_squared_error: 11.2939 - val_loss: 16.7671 - val_mean_squared_error: 16.7671\n",
      "Epoch 36/100\n",
      "428/428 [==============================] - 7s 15ms/step - loss: 9.8792 - mean_squared_error: 9.8792 - val_loss: 17.0154 - val_mean_squared_error: 17.0154\n",
      "Epoch 37/100\n",
      "428/428 [==============================] - 6s 15ms/step - loss: 11.1123 - mean_squared_error: 11.1123 - val_loss: 12.3132 - val_mean_squared_error: 12.3132\n",
      "Epoch 38/100\n",
      "428/428 [==============================] - 8s 18ms/step - loss: 10.8728 - mean_squared_error: 10.8728 - val_loss: 14.1254 - val_mean_squared_error: 14.1254\n",
      "Epoch 39/100\n",
      "428/428 [==============================] - 8s 18ms/step - loss: 10.7238 - mean_squared_error: 10.7238 - val_loss: 13.7308 - val_mean_squared_error: 13.7308\n",
      "Epoch 40/100\n",
      "428/428 [==============================] - 8s 19ms/step - loss: 9.3399 - mean_squared_error: 9.3399 - val_loss: 10.7516 - val_mean_squared_error: 10.7516\n",
      "Epoch 41/100\n",
      "428/428 [==============================] - 8s 18ms/step - loss: 9.0652 - mean_squared_error: 9.0652 - val_loss: 7.9971 - val_mean_squared_error: 7.9971\n",
      "Epoch 42/100\n",
      "428/428 [==============================] - 7s 17ms/step - loss: 8.4532 - mean_squared_error: 8.4532 - val_loss: 12.2229 - val_mean_squared_error: 12.2229\n",
      "Epoch 43/100\n",
      "428/428 [==============================] - 7s 17ms/step - loss: 9.4449 - mean_squared_error: 9.4449 - val_loss: 16.5737 - val_mean_squared_error: 16.5737\n",
      "Epoch 44/100\n",
      "428/428 [==============================] - 8s 19ms/step - loss: 8.6796 - mean_squared_error: 8.6796 - val_loss: 13.4835 - val_mean_squared_error: 13.4835\n",
      "Epoch 45/100\n",
      "428/428 [==============================] - 8s 18ms/step - loss: 9.0846 - mean_squared_error: 9.0846 - val_loss: 14.9857 - val_mean_squared_error: 14.9857\n",
      "Epoch 46/100\n",
      "428/428 [==============================] - 7s 16ms/step - loss: 9.5858 - mean_squared_error: 9.5858 - val_loss: 13.7886 - val_mean_squared_error: 13.7886\n",
      "Epoch 47/100\n",
      "428/428 [==============================] - 6s 15ms/step - loss: 8.7644 - mean_squared_error: 8.7644 - val_loss: 9.9946 - val_mean_squared_error: 9.9946\n",
      "Epoch 48/100\n",
      "428/428 [==============================] - 6s 15ms/step - loss: 8.0413 - mean_squared_error: 8.0413 - val_loss: 8.0289 - val_mean_squared_error: 8.0289\n",
      "Epoch 49/100\n",
      "428/428 [==============================] - 7s 17ms/step - loss: 8.6288 - mean_squared_error: 8.6288 - val_loss: 11.8526 - val_mean_squared_error: 11.8526\n",
      "Epoch 50/100\n",
      "428/428 [==============================] - 7s 16ms/step - loss: 8.3360 - mean_squared_error: 8.3360 - val_loss: 7.6140 - val_mean_squared_error: 7.6140\n",
      "Epoch 51/100\n",
      "428/428 [==============================] - 7s 15ms/step - loss: 7.1385 - mean_squared_error: 7.1385 - val_loss: 10.8269 - val_mean_squared_error: 10.8269\n",
      "Epoch 52/100\n",
      "428/428 [==============================] - 7s 17ms/step - loss: 8.3912 - mean_squared_error: 8.3912 - val_loss: 12.4562 - val_mean_squared_error: 12.4562\n",
      "Epoch 53/100\n",
      "428/428 [==============================] - 6s 15ms/step - loss: 8.3616 - mean_squared_error: 8.3616 - val_loss: 13.2353 - val_mean_squared_error: 13.2353\n",
      "Epoch 54/100\n",
      "428/428 [==============================] - 7s 16ms/step - loss: 8.0498 - mean_squared_error: 8.0498 - val_loss: 9.6164 - val_mean_squared_error: 9.6164\n",
      "Epoch 55/100\n",
      "428/428 [==============================] - 7s 17ms/step - loss: 7.2568 - mean_squared_error: 7.2568 - val_loss: 7.8411 - val_mean_squared_error: 7.8411\n",
      "Epoch 56/100\n",
      "428/428 [==============================] - 6s 15ms/step - loss: 6.8734 - mean_squared_error: 6.8734 - val_loss: 9.9222 - val_mean_squared_error: 9.9222\n",
      "Epoch 57/100\n",
      "428/428 [==============================] - 7s 16ms/step - loss: 6.7556 - mean_squared_error: 6.7556 - val_loss: 7.9055 - val_mean_squared_error: 7.9055\n",
      "Epoch 58/100\n",
      "428/428 [==============================] - 7s 17ms/step - loss: 6.6692 - mean_squared_error: 6.6692 - val_loss: 10.2566 - val_mean_squared_error: 10.2566\n",
      "Epoch 59/100\n",
      "428/428 [==============================] - 6s 15ms/step - loss: 8.6708 - mean_squared_error: 8.6708 - val_loss: 16.1294 - val_mean_squared_error: 16.1294\n",
      "Epoch 60/100\n",
      "428/428 [==============================] - 7s 17ms/step - loss: 7.6268 - mean_squared_error: 7.6268 - val_loss: 7.7166 - val_mean_squared_error: 7.7166\n",
      "Epoch 61/100\n",
      "428/428 [==============================] - 8s 18ms/step - loss: 6.9757 - mean_squared_error: 6.9757 - val_loss: 9.1297 - val_mean_squared_error: 9.1297\n",
      "Epoch 62/100\n",
      "428/428 [==============================] - 8s 19ms/step - loss: 7.2570 - mean_squared_error: 7.2570 - val_loss: 7.2307 - val_mean_squared_error: 7.2307\n",
      "Epoch 63/100\n",
      "428/428 [==============================] - 8s 19ms/step - loss: 7.5567 - mean_squared_error: 7.5567 - val_loss: 9.1476 - val_mean_squared_error: 9.1476\n",
      "Epoch 64/100\n",
      "428/428 [==============================] - 8s 19ms/step - loss: 6.6273 - mean_squared_error: 6.6273 - val_loss: 5.5895 - val_mean_squared_error: 5.5895\n",
      "Epoch 65/100\n",
      "428/428 [==============================] - 8s 19ms/step - loss: 6.6924 - mean_squared_error: 6.6924 - val_loss: 10.0964 - val_mean_squared_error: 10.0964\n",
      "Epoch 66/100\n",
      "428/428 [==============================] - 8s 19ms/step - loss: 6.9266 - mean_squared_error: 6.9266 - val_loss: 8.5081 - val_mean_squared_error: 8.5081\n",
      "Epoch 67/100\n",
      "428/428 [==============================] - 8s 19ms/step - loss: 6.6494 - mean_squared_error: 6.6494 - val_loss: 8.0347 - val_mean_squared_error: 8.0347\n",
      "Epoch 68/100\n",
      "428/428 [==============================] - 8s 19ms/step - loss: 7.3605 - mean_squared_error: 7.3605 - val_loss: 7.4528 - val_mean_squared_error: 7.4528n_squared_err\n",
      "Epoch 69/100\n",
      "428/428 [==============================] - 8s 18ms/step - loss: 6.5867 - mean_squared_error: 6.5867 - val_loss: 8.0747 - val_mean_squared_error: 8.0747\n",
      "Epoch 70/100\n",
      "428/428 [==============================] - 8s 18ms/step - loss: 6.1427 - mean_squared_error: 6.1427 - val_loss: 5.9344 - val_mean_squared_error: 5.9344\n",
      "Epoch 71/100\n",
      "428/428 [==============================] - 7s 16ms/step - loss: 7.4808 - mean_squared_error: 7.4808 - val_loss: 13.1791 - val_mean_squared_error: 13.1791\n",
      "Epoch 72/100\n",
      "428/428 [==============================] - 7s 15ms/step - loss: 7.2919 - mean_squared_error: 7.2919 - val_loss: 10.1677 - val_mean_squared_error: 10.1677\n",
      "Epoch 73/100\n",
      "428/428 [==============================] - 6s 15ms/step - loss: 6.0987 - mean_squared_error: 6.0987 - val_loss: 7.9638 - val_mean_squared_error: 7.9638\n",
      "Epoch 74/100\n",
      "428/428 [==============================] - 6s 14ms/step - loss: 5.9682 - mean_squared_error: 5.9682 - val_loss: 8.0848 - val_mean_squared_error: 8.0848\n",
      "Epoch 75/100\n",
      "428/428 [==============================] - 7s 16ms/step - loss: 6.0978 - mean_squared_error: 6.0978 - val_loss: 6.0806 - val_mean_squared_error: 6.0806\n",
      "Epoch 76/100\n",
      "428/428 [==============================] - 6s 15ms/step - loss: 5.7827 - mean_squared_error: 5.7827 - val_loss: 6.0334 - val_mean_squared_error: 6.0334\n",
      "Epoch 77/100\n",
      "428/428 [==============================] - 7s 16ms/step - loss: 5.6420 - mean_squared_error: 5.6420 - val_loss: 8.8633 - val_mean_squared_error: 8.8633\n",
      "Epoch 78/100\n",
      "428/428 [==============================] - 8s 18ms/step - loss: 8.3039 - mean_squared_error: 8.3039 - val_loss: 11.0462 - val_mean_squared_error: 11.0462\n",
      "Epoch 79/100\n",
      "428/428 [==============================] - 8s 19ms/step - loss: 6.6547 - mean_squared_error: 6.6547 - val_loss: 6.1077 - val_mean_squared_error: 6.1077\n",
      "Epoch 80/100\n",
      "428/428 [==============================] - 8s 18ms/step - loss: 5.5981 - mean_squared_error: 5.5981 - val_loss: 7.0990 - val_mean_squared_error: 7.0990\n",
      "Epoch 81/100\n",
      "428/428 [==============================] - 8s 18ms/step - loss: 5.5342 - mean_squared_error: 5.5342 - val_loss: 5.3325 - val_mean_squared_error: 5.3325\n",
      "Epoch 82/100\n",
      "428/428 [==============================] - 7s 17ms/step - loss: 5.3054 - mean_squared_error: 5.3054 - val_loss: 5.7315 - val_mean_squared_error: 5.7315\n",
      "Epoch 83/100\n",
      "428/428 [==============================] - 6s 15ms/step - loss: 5.2785 - mean_squared_error: 5.2785 - val_loss: 6.4735 - val_mean_squared_error: 6.4735\n",
      "Epoch 84/100\n",
      "428/428 [==============================] - 7s 16ms/step - loss: 6.1115 - mean_squared_error: 6.1115 - val_loss: 7.3168 - val_mean_squared_error: 7.3168\n",
      "Epoch 85/100\n",
      "428/428 [==============================] - 8s 18ms/step - loss: 5.8708 - mean_squared_error: 5.8708 - val_loss: 7.9286 - val_mean_squared_error: 7.9286\n",
      "Epoch 86/100\n",
      "428/428 [==============================] - 8s 18ms/step - loss: 5.2602 - mean_squared_error: 5.2602 - val_loss: 7.0259 - val_mean_squared_error: 7.0259\n",
      "Epoch 87/100\n",
      "428/428 [==============================] - 6s 14ms/step - loss: 5.5001 - mean_squared_error: 5.5001 - val_loss: 7.3820 - val_mean_squared_error: 7.3820\n",
      "Epoch 88/100\n",
      "428/428 [==============================] - 7s 17ms/step - loss: 4.9600 - mean_squared_error: 4.9600 - val_loss: 5.8880 - val_mean_squared_error: 5.8880\n",
      "Epoch 89/100\n",
      "428/428 [==============================] - 8s 18ms/step - loss: 5.1384 - mean_squared_error: 5.1384 - val_loss: 5.9875 - val_mean_squared_error: 5.9875\n",
      "Epoch 90/100\n",
      "428/428 [==============================] - 9s 21ms/step - loss: 5.2832 - mean_squared_error: 5.2832 - val_loss: 7.6420 - val_mean_squared_error: 7.6420\n",
      "Epoch 91/100\n",
      "428/428 [==============================] - 6s 14ms/step - loss: 6.2282 - mean_squared_error: 6.2282 - val_loss: 7.5385 - val_mean_squared_error: 7.5385\n",
      "Epoch 92/100\n",
      "428/428 [==============================] - 6s 15ms/step - loss: 4.8223 - mean_squared_error: 4.8223 - val_loss: 5.9340 - val_mean_squared_error: 5.9340\n",
      "Epoch 93/100\n",
      "428/428 [==============================] - 7s 15ms/step - loss: 6.4448 - mean_squared_error: 6.4448 - val_loss: 11.5101 - val_mean_squared_error: 11.5101\n",
      "Epoch 94/100\n",
      "428/428 [==============================] - 7s 16ms/step - loss: 5.2717 - mean_squared_error: 5.2717 - val_loss: 5.8571 - val_mean_squared_error: 5.8571\n",
      "Epoch 95/100\n",
      "428/428 [==============================] - 6s 14ms/step - loss: 4.6049 - mean_squared_error: 4.6049 - val_loss: 6.2985 - val_mean_squared_error: 6.2985\n",
      "Epoch 96/100\n",
      "428/428 [==============================] - 6s 15ms/step - loss: 4.4999 - mean_squared_error: 4.4999 - val_loss: 5.8298 - val_mean_squared_error: 5.8298\n",
      "Epoch 97/100\n",
      "428/428 [==============================] - 6s 14ms/step - loss: 4.4714 - mean_squared_error: 4.4714 - val_loss: 3.6888 - val_mean_squared_error: 3.6888\n",
      "Epoch 98/100\n",
      "428/428 [==============================] - 6s 15ms/step - loss: 4.6437 - mean_squared_error: 4.6437 - val_loss: 5.0876 - val_mean_squared_error: 5.0876\n",
      "Epoch 99/100\n",
      "428/428 [==============================] - 6s 15ms/step - loss: 4.6628 - mean_squared_error: 4.6628 - val_loss: 4.5838 - val_mean_squared_error: 4.5838\n",
      "Epoch 100/100\n",
      "428/428 [==============================] - 6s 14ms/step - loss: 4.3381 - mean_squared_error: 4.3381 - val_loss: 4.8036 - val_mean_squared_error: 4.8036\n"
     ]
    }
   ],
   "source": [
    "# 実行。出力はなしで設定(verbose=0)。\n",
    "history = model.fit(X_train, y_train, batch_size=16, epochs=100,\n",
    "                   validation_data = (X_test, y_test))\n"
   ]
  },
  {
   "cell_type": "code",
   "execution_count": 552,
   "metadata": {},
   "outputs": [
    {
     "data": {
      "image/png": "[encoded data removed]",
      "text/plain": [
       "<Figure size 432x288 with 1 Axes>"
      ]
     },
     "metadata": {
      "needs_background": "light"
     },
     "output_type": "display_data"
    }
   ],
   "source": [
    "plt.plot(history.history['loss'][1:])\n",
    "plt.plot(history.history['val_loss'][1:])\n",
    "plt.title('model accuracy')\n",
    "plt.xlabel('epoch')\n",
    "plt.ylabel('accuracy')\n",
    "plt.legend(['acc', 'val_acc'], loc='upper right')\n",
    "plt.show()"
   ]
  },
  {
   "cell_type": "code",
   "execution_count": 553,
   "metadata": {},
   "outputs": [
    {
     "data": {
      "text/plain": [
       "array([ 37., -25.], dtype=float32)"
      ]
     },
     "execution_count": 553,
     "metadata": {},
     "output_type": "execute_result"
    }
   ],
   "source": [
    "y_train[0]"
   ]
  },
  {
   "cell_type": "code",
   "execution_count": 554,
   "metadata": {},
   "outputs": [
    {
     "data": {
      "text/plain": [
       "array([[ 12.34896  ,  37.328274 ],\n",
       "       [ 11.181453 ,  43.016487 ],\n",
       "       [ 47.53056  , -40.504528 ],\n",
       "       [ -0.9806482,  46.15239  ],\n",
       "       [-30.838171 , -14.300249 ],\n",
       "       [-31.12638  , -21.614088 ],\n",
       "       [ 21.667192 ,   9.929015 ],\n",
       "       [ 33.08677  , -10.459121 ],\n",
       "       [-46.495625 , -15.43841  ],\n",
       "       [-47.66569  ,  -1.8897467]], dtype=float32)"
      ]
     },
     "execution_count": 554,
     "metadata": {},
     "output_type": "execute_result"
    }
   ],
   "source": [
    "model.predict(X_test)[:10]"
   ]
  },
  {
   "cell_type": "code",
   "execution_count": 555,
   "metadata": {},
   "outputs": [
    {
     "data": {
      "text/plain": [
       "array([[ 13.,  36.],\n",
       "       [ 12.,  42.],\n",
       "       [ 49., -42.],\n",
       "       [ -4.,  47.],\n",
       "       [-32., -15.],\n",
       "       [-32., -22.],\n",
       "       [ 21.,  10.],\n",
       "       [ 32., -10.],\n",
       "       [-48., -16.],\n",
       "       [-49.,  -2.]], dtype=float32)"
      ]
     },
     "execution_count": 555,
     "metadata": {},
     "output_type": "execute_result"
    }
   ],
   "source": [
    "y_test[:10]"
   ]
  },
  {
   "cell_type": "markdown",
   "metadata": {},
   "source": [
    "https://jp.mathworks.com/help/deeplearning/ug/train-a-convolutional-neural-network-for-regression.html"
   ]
  },
  {
   "cell_type": "code",
   "execution_count": 556,
   "metadata": {},
   "outputs": [
    {
     "name": "stderr",
     "output_type": "stream",
     "text": [
      "WARNING:absl:Found untraced functions such as conv2d_190_layer_call_and_return_conditional_losses, conv2d_190_layer_call_fn, activation_253_layer_call_and_return_conditional_losses, activation_253_layer_call_fn, conv2d_191_layer_call_and_return_conditional_losses while saving (showing 5 of 115). These functions will not be directly callable after loading.\n"
     ]
    },
    {
     "name": "stdout",
     "output_type": "stream",
     "text": [
      "INFO:tensorflow:Assets written to: 20210818-00\\assets\n"
     ]
    },
    {
     "name": "stderr",
     "output_type": "stream",
     "text": [
      "INFO:tensorflow:Assets written to: 20210818-00\\assets\n"
     ]
    }
   ],
   "source": [
    "# TODO: Normalization?\n",
    "# integer output made everthing pretty nice.\n",
    "model.save('20210818-00')"
   ]
  },
  {
   "cell_type": "code",
   "execution_count": null,
   "metadata": {},
   "outputs": [],
   "source": []
  }
 ],
 "metadata": {
  "interpreter": {
   "hash": "300e5761ebde2b2bb7011c360549655aaa968a4bb618514aa4d40b70c5330d68"
  },
  "kernelspec": {
   "display_name": "Python 3",
   "language": "python",
   "name": "python3"
  },
  "language_info": {
   "codemirror_mode": {
    "name": "ipython",
    "version": 3
   },
   "file_extension": ".py",
   "mimetype": "text/x-python",
   "name": "python",
   "nbconvert_exporter": "python",
   "pygments_lexer": "ipython3",
   "version": "3.8.5"
  }
 },
 "nbformat": 4,
 "nbformat_minor": 4
}
