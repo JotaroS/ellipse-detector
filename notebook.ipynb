{
 "cells": [
  {
   "cell_type": "code",
   "execution_count": 207,
   "metadata": {},
   "outputs": [],
   "source": [
    "import keras\n",
    "from keras.utils import np_utils\n",
    "from keras.layers.convolutional import Conv2D, MaxPooling2D\n",
    "from keras.models import Sequential\n",
    "from keras.layers.core import Dense, Dropout, Activation, Flatten\n",
    "from keras.layers import BatchNormalization\n",
    "from keras.preprocessing.image import array_to_img, img_to_array, load_img\n",
    "import numpy as np\n",
    "import pandas as pd\n",
    "from sklearn.model_selection import train_test_split\n",
    "import matplotlib.pyplot as plt\n",
    "import glob\n",
    "import json"
   ]
  },
  {
   "cell_type": "markdown",
   "metadata": {},
   "source": [
    "turning an image into array"
   ]
  },
  {
   "cell_type": "code",
   "execution_count": 208,
   "metadata": {},
   "outputs": [],
   "source": [
    "temp_img = load_img('./cropped/0.jpg', color_mode='grayscale')"
   ]
  },
  {
   "cell_type": "code",
   "execution_count": 209,
   "metadata": {},
   "outputs": [
    {
     "data": {
      "image/png": "[encoded data removed]",
      "text/plain": [
       "<PIL.JpegImagePlugin.JpegImageFile image mode=L size=128x128 at 0x27247B993A0>"
      ]
     },
     "execution_count": 209,
     "metadata": {},
     "output_type": "execute_result"
    }
   ],
   "source": [
    "temp_img"
   ]
  },
  {
   "cell_type": "code",
   "execution_count": 210,
   "metadata": {},
   "outputs": [],
   "source": [
    "temp_img_array = img_to_array(temp_img)"
   ]
  },
  {
   "cell_type": "code",
   "execution_count": 211,
   "metadata": {},
   "outputs": [
    {
     "data": {
      "text/plain": [
       "(128, 128, 1)"
      ]
     },
     "execution_count": 211,
     "metadata": {},
     "output_type": "execute_result"
    }
   ],
   "source": [
    "temp_img_array.shape"
   ]
  },
  {
   "cell_type": "code",
   "execution_count": 212,
   "metadata": {},
   "outputs": [],
   "source": [
    "def generate_dataset():\n",
    "    X = []\n",
    "    Y = []\n",
    "    \n",
    "    # X\n",
    "    for f in glob.glob('./cropped/*.jpg'):\n",
    "        temp_img = load_img(f, color_mode='grayscale')\n",
    "        arr      = img_to_array(temp_img)\n",
    "        X.append(arr)\n",
    "    X = np.asarray(X)\n",
    "    X = X.astype('float32')\n",
    "    X = X / 255.0\n",
    "    \n",
    "    # Y\n",
    "    with open('labels.json') as f:\n",
    "        data = json.load(f)\n",
    "    for d in data:\n",
    "        y = [d['center'][0]/128.0, d['center'][1]/128.0, d['radius']/128.0]\n",
    "        Y.append(y)\n",
    "    Y = np.asarray(Y)\n",
    "    Y = Y.astype('float32')\n",
    "    return X, Y"
   ]
  },
  {
   "cell_type": "code",
   "execution_count": 213,
   "metadata": {},
   "outputs": [],
   "source": [
    "X, Y = generate_dataset()"
   ]
  },
  {
   "cell_type": "code",
   "execution_count": 215,
   "metadata": {},
   "outputs": [
    {
     "data": {
      "text/plain": [
       "(2044, 128, 128, 1)"
      ]
     },
     "execution_count": 215,
     "metadata": {},
     "output_type": "execute_result"
    }
   ],
   "source": [
    "X.shape"
   ]
  },
  {
   "cell_type": "code",
   "execution_count": 216,
   "metadata": {},
   "outputs": [
    {
     "data": {
      "text/plain": [
       "(2044, 3)"
      ]
     },
     "execution_count": 216,
     "metadata": {},
     "output_type": "execute_result"
    }
   ],
   "source": [
    "Y.shape"
   ]
  },
  {
   "cell_type": "code",
   "execution_count": 217,
   "metadata": {},
   "outputs": [],
   "source": [
    "X_train, X_test, y_train, y_test = train_test_split(X, Y, test_size=0.33, random_state=111)\n"
   ]
  },
  {
   "cell_type": "code",
   "execution_count": 222,
   "metadata": {},
   "outputs": [],
   "source": [
    "# CNNを構築\n",
    "model = Sequential()\n",
    "\n",
    "model.add(Conv2D(32, (3, 3), padding='same',\n",
    "                 input_shape=X_train.shape[1:]))\n",
    "model.add(Activation('relu'))\n",
    "model.add(Conv2D(32, (3, 3)))\n",
    "model.add(BatchNormalization())\n",
    "model.add(Activation('relu'))\n",
    "model.add(MaxPooling2D(pool_size=(2, 2)))\n",
    "model.add(Dropout(0.25))\n",
    "\n",
    "model.add(Conv2D(64, (3, 3), padding='same'))\n",
    "model.add(Activation('relu'))\n",
    "model.add(Conv2D(64, (3, 3)))\n",
    "model.add(BatchNormalization())\n",
    "model.add(Activation('relu'))\n",
    "model.add(MaxPooling2D(pool_size=(2, 2)))\n",
    "model.add(Dropout(0.25))\n",
    "\n",
    "model.add(Flatten())\n",
    "model.add(Dense(512))\n",
    "model.add(BatchNormalization())\n",
    "model.add(Activation('relu'))\n",
    "model.add(Dropout(0.5))\n",
    "model.add(Dense(3))       \n",
    "model.add(Activation('relu'))\n",
    "# コンパイル\n",
    "model.compile(loss='mean_squared_error',\n",
    "              optimizer='adam',\n",
    "              metrics=['mean_squared_error'])\n",
    "\n"
   ]
  },
  {
   "cell_type": "code",
   "execution_count": 223,
   "metadata": {},
   "outputs": [
    {
     "name": "stdout",
     "output_type": "stream",
     "text": [
      "Epoch 1/100\n",
      "137/137 [==============================] - 5s 22ms/step - loss: 0.7223 - mean_squared_error: 0.7223 - val_loss: 0.1829 - val_mean_squared_error: 0.1829\n",
      "Epoch 2/100\n",
      "137/137 [==============================] - 3s 18ms/step - loss: 0.1785 - mean_squared_error: 0.1785 - val_loss: 0.1829 - val_mean_squared_error: 0.1829\n",
      "Epoch 3/100\n",
      "137/137 [==============================] - 3s 18ms/step - loss: 0.1752 - mean_squared_error: 0.1752 - val_loss: 0.1764 - val_mean_squared_error: 0.1764\n",
      "Epoch 4/100\n",
      "137/137 [==============================] - 3s 18ms/step - loss: 0.1809 - mean_squared_error: 0.1809 - val_loss: 0.1649 - val_mean_squared_error: 0.1649\n",
      "Epoch 5/100\n",
      "137/137 [==============================] - 3s 20ms/step - loss: 0.1777 - mean_squared_error: 0.1777 - val_loss: 0.1695 - val_mean_squared_error: 0.1695\n",
      "Epoch 6/100\n",
      "137/137 [==============================] - 3s 20ms/step - loss: 0.1762 - mean_squared_error: 0.1762 - val_loss: 0.1752 - val_mean_squared_error: 0.1752\n",
      "Epoch 7/100\n",
      "137/137 [==============================] - 3s 20ms/step - loss: 0.1822 - mean_squared_error: 0.1822 - val_loss: 0.1718 - val_mean_squared_error: 0.1718\n",
      "Epoch 8/100\n",
      "137/137 [==============================] - 3s 20ms/step - loss: 0.1645 - mean_squared_error: 0.1645 - val_loss: 0.1617 - val_mean_squared_error: 0.1617\n",
      "Epoch 9/100\n",
      "137/137 [==============================] - 3s 19ms/step - loss: 0.1644 - mean_squared_error: 0.1644 - val_loss: 0.1520 - val_mean_squared_error: 0.1520\n",
      "Epoch 10/100\n",
      "137/137 [==============================] - 3s 19ms/step - loss: 0.1598 - mean_squared_error: 0.1598 - val_loss: 0.1309 - val_mean_squared_error: 0.1309\n",
      "Epoch 11/100\n",
      "137/137 [==============================] - 3s 19ms/step - loss: 0.1514 - mean_squared_error: 0.1514 - val_loss: 0.1102 - val_mean_squared_error: 0.1102\n",
      "Epoch 12/100\n",
      "137/137 [==============================] - 3s 19ms/step - loss: 0.1384 - mean_squared_error: 0.1384 - val_loss: 0.0953 - val_mean_squared_error: 0.0953\n",
      "Epoch 13/100\n",
      "137/137 [==============================] - 3s 19ms/step - loss: 0.1326 - mean_squared_error: 0.1326 - val_loss: 0.1000 - val_mean_squared_error: 0.1000\n",
      "Epoch 14/100\n",
      "137/137 [==============================] - 3s 19ms/step - loss: 0.0971 - mean_squared_error: 0.0971 - val_loss: 0.0706 - val_mean_squared_error: 0.0706\n",
      "Epoch 15/100\n",
      "137/137 [==============================] - 3s 19ms/step - loss: 0.0855 - mean_squared_error: 0.0855 - val_loss: 0.0841 - val_mean_squared_error: 0.0841\n",
      "Epoch 16/100\n",
      "137/137 [==============================] - 3s 19ms/step - loss: 0.0757 - mean_squared_error: 0.0757 - val_loss: 0.0734 - val_mean_squared_error: 0.0734\n",
      "Epoch 17/100\n",
      "137/137 [==============================] - 3s 20ms/step - loss: 0.0760 - mean_squared_error: 0.0760 - val_loss: 0.0517 - val_mean_squared_error: 0.0517\n",
      "Epoch 18/100\n",
      "137/137 [==============================] - 3s 20ms/step - loss: 0.0700 - mean_squared_error: 0.0700 - val_loss: 0.0291 - val_mean_squared_error: 0.0291\n",
      "Epoch 19/100\n",
      "137/137 [==============================] - 3s 20ms/step - loss: 0.0594 - mean_squared_error: 0.0594 - val_loss: 0.0295 - val_mean_squared_error: 0.0295\n",
      "Epoch 20/100\n",
      "137/137 [==============================] - 3s 20ms/step - loss: 0.0506 - mean_squared_error: 0.0506 - val_loss: 0.0347 - val_mean_squared_error: 0.0347\n",
      "Epoch 21/100\n",
      "137/137 [==============================] - 3s 20ms/step - loss: 0.0581 - mean_squared_error: 0.0581 - val_loss: 0.1419 - val_mean_squared_error: 0.1419\n",
      "Epoch 22/100\n",
      "137/137 [==============================] - 3s 19ms/step - loss: 0.0616 - mean_squared_error: 0.0616 - val_loss: 0.0814 - val_mean_squared_error: 0.0814\n",
      "Epoch 23/100\n",
      "137/137 [==============================] - 3s 20ms/step - loss: 0.0654 - mean_squared_error: 0.0654 - val_loss: 0.0242 - val_mean_squared_error: 0.0242\n",
      "Epoch 24/100\n",
      "137/137 [==============================] - 3s 19ms/step - loss: 0.0566 - mean_squared_error: 0.0566 - val_loss: 0.0580 - val_mean_squared_error: 0.0580\n",
      "Epoch 25/100\n",
      "137/137 [==============================] - 3s 20ms/step - loss: 0.0505 - mean_squared_error: 0.0505 - val_loss: 0.0909 - val_mean_squared_error: 0.0909\n",
      "Epoch 26/100\n",
      "137/137 [==============================] - 3s 19ms/step - loss: 0.0487 - mean_squared_error: 0.0487 - val_loss: 0.0337 - val_mean_squared_error: 0.0337\n",
      "Epoch 27/100\n",
      "137/137 [==============================] - 3s 19ms/step - loss: 0.0444 - mean_squared_error: 0.0444 - val_loss: 0.0267 - val_mean_squared_error: 0.0267\n",
      "Epoch 28/100\n",
      "137/137 [==============================] - 3s 19ms/step - loss: 0.0445 - mean_squared_error: 0.0445 - val_loss: 0.0343 - val_mean_squared_error: 0.0343\n",
      "Epoch 29/100\n",
      "137/137 [==============================] - 3s 19ms/step - loss: 0.0478 - mean_squared_error: 0.0478 - val_loss: 0.0304 - val_mean_squared_error: 0.0304\n",
      "Epoch 30/100\n",
      "137/137 [==============================] - 3s 19ms/step - loss: 0.0402 - mean_squared_error: 0.0402 - val_loss: 0.0365 - val_mean_squared_error: 0.0365\n",
      "Epoch 31/100\n",
      "137/137 [==============================] - 3s 19ms/step - loss: 0.0435 - mean_squared_error: 0.0435 - val_loss: 0.0255 - val_mean_squared_error: 0.0255\n",
      "Epoch 32/100\n",
      "137/137 [==============================] - 3s 19ms/step - loss: 0.0420 - mean_squared_error: 0.0420 - val_loss: 0.0283 - val_mean_squared_error: 0.0283\n",
      "Epoch 33/100\n",
      "137/137 [==============================] - 3s 18ms/step - loss: 0.0403 - mean_squared_error: 0.0403 - val_loss: 0.0256 - val_mean_squared_error: 0.0256\n",
      "Epoch 34/100\n",
      "137/137 [==============================] - 3s 19ms/step - loss: 0.0386 - mean_squared_error: 0.0386 - val_loss: 0.0311 - val_mean_squared_error: 0.0311\n",
      "Epoch 35/100\n",
      "137/137 [==============================] - 3s 20ms/step - loss: 0.0415 - mean_squared_error: 0.0415 - val_loss: 0.0329 - val_mean_squared_error: 0.0329\n",
      "Epoch 36/100\n",
      "137/137 [==============================] - 2s 18ms/step - loss: 0.0416 - mean_squared_error: 0.0416 - val_loss: 0.0223 - val_mean_squared_error: 0.0223\n",
      "Epoch 37/100\n",
      "137/137 [==============================] - 3s 19ms/step - loss: 0.0388 - mean_squared_error: 0.0388 - val_loss: 0.0365 - val_mean_squared_error: 0.0365\n",
      "Epoch 38/100\n",
      "137/137 [==============================] - 3s 19ms/step - loss: 0.0387 - mean_squared_error: 0.0387 - val_loss: 0.0280 - val_mean_squared_error: 0.0280\n",
      "Epoch 39/100\n",
      "137/137 [==============================] - 3s 19ms/step - loss: 0.0394 - mean_squared_error: 0.0394 - val_loss: 0.0227 - val_mean_squared_error: 0.0227\n",
      "Epoch 40/100\n",
      "137/137 [==============================] - 3s 19ms/step - loss: 0.0352 - mean_squared_error: 0.0352 - val_loss: 0.0383 - val_mean_squared_error: 0.0383\n",
      "Epoch 41/100\n",
      "137/137 [==============================] - 3s 19ms/step - loss: 0.0280 - mean_squared_error: 0.0280 - val_loss: 0.0201 - val_mean_squared_error: 0.0201\n",
      "Epoch 42/100\n",
      "137/137 [==============================] - 3s 19ms/step - loss: 0.0230 - mean_squared_error: 0.0230 - val_loss: 0.0192 - val_mean_squared_error: 0.0192\n",
      "Epoch 43/100\n",
      "137/137 [==============================] - 2s 18ms/step - loss: 0.0212 - mean_squared_error: 0.0212 - val_loss: 0.0178 - val_mean_squared_error: 0.0178\n",
      "Epoch 44/100\n",
      "137/137 [==============================] - 2s 18ms/step - loss: 0.0199 - mean_squared_error: 0.0199 - val_loss: 0.0204 - val_mean_squared_error: 0.0204\n",
      "Epoch 45/100\n",
      "137/137 [==============================] - 2s 18ms/step - loss: 0.0198 - mean_squared_error: 0.0198 - val_loss: 0.0182 - val_mean_squared_error: 0.0182\n",
      "Epoch 46/100\n",
      "137/137 [==============================] - 2s 18ms/step - loss: 0.0195 - mean_squared_error: 0.0195 - val_loss: 0.0183 - val_mean_squared_error: 0.0183\n",
      "Epoch 47/100\n",
      "137/137 [==============================] - 3s 19ms/step - loss: 0.0209 - mean_squared_error: 0.0209 - val_loss: 0.0188 - val_mean_squared_error: 0.0188\n",
      "Epoch 48/100\n",
      "137/137 [==============================] - 3s 19ms/step - loss: 0.0196 - mean_squared_error: 0.0196 - val_loss: 0.0195 - val_mean_squared_error: 0.0195\n",
      "Epoch 49/100\n",
      "137/137 [==============================] - 3s 18ms/step - loss: 0.0201 - mean_squared_error: 0.0201 - val_loss: 0.0177 - val_mean_squared_error: 0.0177\n",
      "Epoch 50/100\n",
      "137/137 [==============================] - 2s 18ms/step - loss: 0.0200 - mean_squared_error: 0.0200 - val_loss: 0.0183 - val_mean_squared_error: 0.0183\n"
     ]
    },
    {
     "name": "stdout",
     "output_type": "stream",
     "text": [
      "Epoch 51/100\n",
      "137/137 [==============================] - 3s 19ms/step - loss: 0.0193 - mean_squared_error: 0.0193 - val_loss: 0.0178 - val_mean_squared_error: 0.0178\n",
      "Epoch 52/100\n",
      "137/137 [==============================] - 3s 19ms/step - loss: 0.0192 - mean_squared_error: 0.0192 - val_loss: 0.0176 - val_mean_squared_error: 0.0176\n",
      "Epoch 53/100\n",
      "137/137 [==============================] - 3s 18ms/step - loss: 0.0197 - mean_squared_error: 0.0197 - val_loss: 0.0177 - val_mean_squared_error: 0.0177\n",
      "Epoch 54/100\n",
      "137/137 [==============================] - 2s 18ms/step - loss: 0.0193 - mean_squared_error: 0.0193 - val_loss: 0.0202 - val_mean_squared_error: 0.0202\n",
      "Epoch 55/100\n",
      "137/137 [==============================] - 2s 18ms/step - loss: 0.0192 - mean_squared_error: 0.0192 - val_loss: 0.0177 - val_mean_squared_error: 0.0177\n",
      "Epoch 56/100\n",
      "137/137 [==============================] - 2s 18ms/step - loss: 0.0188 - mean_squared_error: 0.0188 - val_loss: 0.0179 - val_mean_squared_error: 0.0179\n",
      "Epoch 57/100\n",
      "137/137 [==============================] - 3s 19ms/step - loss: 0.0191 - mean_squared_error: 0.0191 - val_loss: 0.0208 - val_mean_squared_error: 0.0208\n",
      "Epoch 58/100\n",
      "137/137 [==============================] - 2s 18ms/step - loss: 0.0189 - mean_squared_error: 0.0189 - val_loss: 0.0216 - val_mean_squared_error: 0.0216\n",
      "Epoch 59/100\n",
      "137/137 [==============================] - 2s 18ms/step - loss: 0.0189 - mean_squared_error: 0.0189 - val_loss: 0.0188 - val_mean_squared_error: 0.0188\n",
      "Epoch 60/100\n",
      "137/137 [==============================] - 3s 19ms/step - loss: 0.0190 - mean_squared_error: 0.0190 - val_loss: 0.0180 - val_mean_squared_error: 0.0180\n",
      "Epoch 61/100\n",
      "137/137 [==============================] - 3s 19ms/step - loss: 0.0184 - mean_squared_error: 0.0184 - val_loss: 0.0196 - val_mean_squared_error: 0.0196\n",
      "Epoch 62/100\n",
      "137/137 [==============================] - 3s 18ms/step - loss: 0.0190 - mean_squared_error: 0.0190 - val_loss: 0.0174 - val_mean_squared_error: 0.0174\n",
      "Epoch 63/100\n",
      "137/137 [==============================] - 2s 18ms/step - loss: 0.0186 - mean_squared_error: 0.0186 - val_loss: 0.0177 - val_mean_squared_error: 0.0177\n",
      "Epoch 64/100\n",
      "137/137 [==============================] - 3s 20ms/step - loss: 0.0184 - mean_squared_error: 0.0184 - val_loss: 0.0170 - val_mean_squared_error: 0.0170\n",
      "Epoch 65/100\n",
      "137/137 [==============================] - 3s 20ms/step - loss: 0.0179 - mean_squared_error: 0.0179 - val_loss: 0.0167 - val_mean_squared_error: 0.0167\n",
      "Epoch 66/100\n",
      "137/137 [==============================] - 3s 20ms/step - loss: 0.0175 - mean_squared_error: 0.0175 - val_loss: 0.0178 - val_mean_squared_error: 0.0178\n",
      "Epoch 67/100\n",
      "137/137 [==============================] - 3s 19ms/step - loss: 0.0179 - mean_squared_error: 0.0179 - val_loss: 0.0180 - val_mean_squared_error: 0.0180\n",
      "Epoch 68/100\n",
      "137/137 [==============================] - 3s 19ms/step - loss: 0.0173 - mean_squared_error: 0.0173 - val_loss: 0.0177 - val_mean_squared_error: 0.0177\n",
      "Epoch 69/100\n",
      "137/137 [==============================] - 3s 19ms/step - loss: 0.0183 - mean_squared_error: 0.0183 - val_loss: 0.0242 - val_mean_squared_error: 0.0242\n",
      "Epoch 70/100\n",
      "137/137 [==============================] - 3s 19ms/step - loss: 0.0179 - mean_squared_error: 0.0179 - val_loss: 0.0178 - val_mean_squared_error: 0.0178\n",
      "Epoch 71/100\n",
      "137/137 [==============================] - 3s 19ms/step - loss: 0.0190 - mean_squared_error: 0.0190 - val_loss: 0.0176 - val_mean_squared_error: 0.0176\n",
      "Epoch 72/100\n",
      "137/137 [==============================] - 3s 19ms/step - loss: 0.0190 - mean_squared_error: 0.0190 - val_loss: 0.0185 - val_mean_squared_error: 0.0185\n",
      "Epoch 73/100\n",
      "137/137 [==============================] - 3s 19ms/step - loss: 0.0189 - mean_squared_error: 0.0189 - val_loss: 0.0173 - val_mean_squared_error: 0.0173\n",
      "Epoch 74/100\n",
      "137/137 [==============================] - 3s 20ms/step - loss: 0.0176 - mean_squared_error: 0.0176 - val_loss: 0.0169 - val_mean_squared_error: 0.0169\n",
      "Epoch 75/100\n",
      "137/137 [==============================] - 3s 19ms/step - loss: 0.0170 - mean_squared_error: 0.0170 - val_loss: 0.0175 - val_mean_squared_error: 0.0175\n",
      "Epoch 76/100\n",
      "137/137 [==============================] - 3s 19ms/step - loss: 0.0171 - mean_squared_error: 0.0171 - val_loss: 0.0174 - val_mean_squared_error: 0.0174\n",
      "Epoch 77/100\n",
      "137/137 [==============================] - 3s 19ms/step - loss: 0.0160 - mean_squared_error: 0.0160 - val_loss: 0.0159 - val_mean_squared_error: 0.0159\n",
      "Epoch 78/100\n",
      "137/137 [==============================] - 3s 19ms/step - loss: 0.0179 - mean_squared_error: 0.0179 - val_loss: 0.0169 - val_mean_squared_error: 0.0169\n",
      "Epoch 79/100\n",
      "137/137 [==============================] - 3s 19ms/step - loss: 0.0180 - mean_squared_error: 0.0180 - val_loss: 0.0169 - val_mean_squared_error: 0.0169\n",
      "Epoch 80/100\n",
      "137/137 [==============================] - 3s 19ms/step - loss: 0.0165 - mean_squared_error: 0.0165 - val_loss: 0.0163 - val_mean_squared_error: 0.0163\n",
      "Epoch 81/100\n",
      "137/137 [==============================] - 3s 19ms/step - loss: 0.0172 - mean_squared_error: 0.0172 - val_loss: 0.0184 - val_mean_squared_error: 0.0184\n",
      "Epoch 82/100\n",
      "137/137 [==============================] - 3s 19ms/step - loss: 0.0159 - mean_squared_error: 0.0159 - val_loss: 0.0175 - val_mean_squared_error: 0.0175\n",
      "Epoch 83/100\n",
      "137/137 [==============================] - 3s 19ms/step - loss: 0.0169 - mean_squared_error: 0.0169 - val_loss: 0.0157 - val_mean_squared_error: 0.0157\n",
      "Epoch 84/100\n",
      "137/137 [==============================] - 3s 19ms/step - loss: 0.0162 - mean_squared_error: 0.0162 - val_loss: 0.0159 - val_mean_squared_error: 0.0159\n",
      "Epoch 85/100\n",
      "137/137 [==============================] - 3s 19ms/step - loss: 0.0158 - mean_squared_error: 0.0158 - val_loss: 0.0166 - val_mean_squared_error: 0.0166\n",
      "Epoch 86/100\n",
      "137/137 [==============================] - 3s 19ms/step - loss: 0.0158 - mean_squared_error: 0.0158 - val_loss: 0.0160 - val_mean_squared_error: 0.0160\n",
      "Epoch 87/100\n",
      "137/137 [==============================] - 3s 19ms/step - loss: 0.0158 - mean_squared_error: 0.0158 - val_loss: 0.0154 - val_mean_squared_error: 0.0154\n",
      "Epoch 88/100\n",
      "137/137 [==============================] - 3s 19ms/step - loss: 0.0153 - mean_squared_error: 0.0153 - val_loss: 0.0153 - val_mean_squared_error: 0.0153\n",
      "Epoch 89/100\n",
      "137/137 [==============================] - 3s 19ms/step - loss: 0.0156 - mean_squared_error: 0.0156 - val_loss: 0.0154 - val_mean_squared_error: 0.0154\n",
      "Epoch 90/100\n",
      "137/137 [==============================] - 3s 19ms/step - loss: 0.0149 - mean_squared_error: 0.0149 - val_loss: 0.0160 - val_mean_squared_error: 0.0160\n",
      "Epoch 91/100\n",
      "137/137 [==============================] - 3s 19ms/step - loss: 0.0157 - mean_squared_error: 0.0157 - val_loss: 0.0157 - val_mean_squared_error: 0.0157\n",
      "Epoch 92/100\n",
      "137/137 [==============================] - 3s 19ms/step - loss: 0.0148 - mean_squared_error: 0.0148 - val_loss: 0.0150 - val_mean_squared_error: 0.0150\n",
      "Epoch 93/100\n",
      "137/137 [==============================] - 3s 19ms/step - loss: 0.0149 - mean_squared_error: 0.0149 - val_loss: 0.0150 - val_mean_squared_error: 0.0150\n",
      "Epoch 94/100\n",
      "137/137 [==============================] - 3s 19ms/step - loss: 0.0149 - mean_squared_error: 0.0149 - val_loss: 0.0176 - val_mean_squared_error: 0.0176\n",
      "Epoch 95/100\n",
      "137/137 [==============================] - 3s 19ms/step - loss: 0.0146 - mean_squared_error: 0.0146 - val_loss: 0.0151 - val_mean_squared_error: 0.0151\n",
      "Epoch 96/100\n",
      "137/137 [==============================] - 3s 18ms/step - loss: 0.0145 - mean_squared_error: 0.0145 - val_loss: 0.0166 - val_mean_squared_error: 0.0166\n",
      "Epoch 97/100\n",
      "137/137 [==============================] - 3s 19ms/step - loss: 0.0146 - mean_squared_error: 0.0146 - val_loss: 0.0150 - val_mean_squared_error: 0.0150\n",
      "Epoch 98/100\n",
      "137/137 [==============================] - 3s 19ms/step - loss: 0.0152 - mean_squared_error: 0.0152 - val_loss: 0.0172 - val_mean_squared_error: 0.0172\n",
      "Epoch 99/100\n",
      "137/137 [==============================] - 3s 19ms/step - loss: 0.0155 - mean_squared_error: 0.0155 - val_loss: 0.0161 - val_mean_squared_error: 0.0161\n",
      "Epoch 100/100\n"
     ]
    },
    {
     "name": "stdout",
     "output_type": "stream",
     "text": [
      "137/137 [==============================] - 3s 21ms/step - loss: 0.0151 - mean_squared_error: 0.0151 - val_loss: 0.0171 - val_mean_squared_error: 0.0171\n"
     ]
    }
   ],
   "source": [
    "# 実行。出力はなしで設定(verbose=0)。\n",
    "history = model.fit(X_train, y_train, batch_size=10, epochs=100,\n",
    "                   validation_data = (X_test, y_test))\n"
   ]
  },
  {
   "cell_type": "code",
   "execution_count": null,
   "metadata": {},
   "outputs": [],
   "source": []
  },
  {
   "cell_type": "code",
   "execution_count": 224,
   "metadata": {},
   "outputs": [
    {
     "data": {
      "image/png": "[encoded data removed]",
      "text/plain": [
       "<Figure size 432x288 with 1 Axes>"
      ]
     },
     "metadata": {
      "needs_background": "light"
     },
     "output_type": "display_data"
    }
   ],
   "source": [
    "plt.plot(history.history['loss'])\n",
    "plt.plot(history.history['val_loss'])\n",
    "plt.title('model accuracy')\n",
    "plt.xlabel('epoch')\n",
    "plt.ylabel('accuracy')\n",
    "plt.legend(['acc', 'val_acc'], loc='lower right')\n",
    "plt.show()"
   ]
  },
  {
   "cell_type": "code",
   "execution_count": 225,
   "metadata": {},
   "outputs": [
    {
     "data": {
      "text/plain": [
       "array([0.578125 , 0.5390625, 0.0703125], dtype=float32)"
      ]
     },
     "execution_count": 225,
     "metadata": {},
     "output_type": "execute_result"
    }
   ],
   "source": [
    "y_train[0]"
   ]
  },
  {
   "cell_type": "code",
   "execution_count": 228,
   "metadata": {},
   "outputs": [
    {
     "data": {
      "text/plain": [
       "array([[0.3909514 , 0.46525574, 0.        ],\n",
       "       [0.4672473 , 0.4731054 , 0.        ],\n",
       "       [0.42031443, 0.5760138 , 0.        ],\n",
       "       [0.44508836, 0.5134455 , 0.        ],\n",
       "       [0.36048537, 0.53121275, 0.        ],\n",
       "       [0.47283915, 0.5132846 , 0.        ],\n",
       "       [0.4149496 , 0.50312054, 0.        ],\n",
       "       [0.37811238, 0.5147178 , 0.        ],\n",
       "       [0.3473521 , 0.41830486, 0.        ],\n",
       "       [0.5380582 , 0.51163   , 0.        ]], dtype=float32)"
      ]
     },
     "execution_count": 228,
     "metadata": {},
     "output_type": "execute_result"
    }
   ],
   "source": [
    "model.predict(X_test)[:10]"
   ]
  },
  {
   "cell_type": "code",
   "execution_count": 227,
   "metadata": {},
   "outputs": [
    {
     "data": {
      "text/plain": [
       "array([[0.4921875, 0.5078125, 0.15625  ],\n",
       "       [0.609375 , 0.4921875, 0.046875 ],\n",
       "       [0.34375  , 0.5625   , 0.1640625],\n",
       "       [0.3515625, 0.46875  , 0.1484375],\n",
       "       [0.40625  , 0.453125 , 0.0625   ],\n",
       "       [0.5234375, 0.5078125, 0.2734375],\n",
       "       [0.6171875, 0.578125 , 0.1640625],\n",
       "       [0.40625  , 0.5390625, 0.0625   ],\n",
       "       [0.46875  , 0.40625  , 0.296875 ],\n",
       "       [0.6171875, 0.5      , 0.1953125]], dtype=float32)"
      ]
     },
     "execution_count": 227,
     "metadata": {},
     "output_type": "execute_result"
    }
   ],
   "source": [
    "y_test[:10]"
   ]
  },
  {
   "cell_type": "markdown",
   "metadata": {},
   "source": [
    "https://jp.mathworks.com/help/deeplearning/ug/train-a-convolutional-neural-network-for-regression.html"
   ]
  },
  {
   "cell_type": "code",
   "execution_count": null,
   "metadata": {},
   "outputs": [],
   "source": [
    "#TODO: Normalization?\n"
   ]
  }
 ],
 "metadata": {
  "kernelspec": {
   "display_name": "Python 3",
   "language": "python",
   "name": "python3"
  },
  "language_info": {
   "codemirror_mode": {
    "name": "ipython",
    "version": 3
   },
   "file_extension": ".py",
   "mimetype": "text/x-python",
   "name": "python",
   "nbconvert_exporter": "python",
   "pygments_lexer": "ipython3",
   "version": "3.8.5"
  }
 },
 "nbformat": 4,
 "nbformat_minor": 4
}
