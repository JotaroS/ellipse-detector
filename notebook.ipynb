{
 "cells": [
  {
   "cell_type": "code",
   "execution_count": 32,
   "metadata": {},
   "outputs": [],
   "source": [
    "import keras\n",
    "from keras.utils import np_utils\n",
    "from keras.layers.convolutional import Conv2D, MaxPooling2D\n",
    "from keras.models import Sequential\n",
    "from keras.layers.core import Dense, Dropout, Activation, Flatten\n",
    "from keras.layers import BatchNormalization\n",
    "from keras.preprocessing.image import array_to_img, img_to_array, load_img\n",
    "import numpy as np\n",
    "import pandas as pd\n",
    "from sklearn.model_selection import train_test_split\n",
    "import matplotlib.pyplot as plt\n",
    "import glob\n",
    "import json\n",
    "from sklearn.preprocessing import StandardScaler"
   ]
  },
  {
   "cell_type": "markdown",
   "metadata": {},
   "source": [
    "turning an image into array"
   ]
  },
  {
   "cell_type": "code",
   "execution_count": 33,
   "metadata": {},
   "outputs": [],
   "source": [
    "temp_img = load_img('./cropped/0.jpg', color_mode='grayscale')"
   ]
  },
  {
   "cell_type": "code",
   "execution_count": 34,
   "metadata": {},
   "outputs": [
    {
     "data": {
      "image/png": "[encoded data removed]",
      "text/plain": [
       "<PIL.JpegImagePlugin.JpegImageFile image mode=L size=128x128 at 0x1A174CFAC10>"
      ]
     },
     "execution_count": 34,
     "metadata": {},
     "output_type": "execute_result"
    }
   ],
   "source": [
    "temp_img"
   ]
  },
  {
   "cell_type": "code",
   "execution_count": 35,
   "metadata": {},
   "outputs": [],
   "source": [
    "temp_img_array = img_to_array(temp_img)"
   ]
  },
  {
   "cell_type": "code",
   "execution_count": 36,
   "metadata": {},
   "outputs": [
    {
     "data": {
      "text/plain": [
       "(128, 128, 1)"
      ]
     },
     "execution_count": 36,
     "metadata": {},
     "output_type": "execute_result"
    }
   ],
   "source": [
    "temp_img_array.shape"
   ]
  },
  {
   "cell_type": "code",
   "execution_count": 37,
   "metadata": {},
   "outputs": [],
   "source": [
    "def generate_dataset():\n",
    "    X = []\n",
    "    Y = []\n",
    "    \n",
    "    # X\n",
    "    files = glob.glob('./cropped/*.jpg')\n",
    "    files.sort()\n",
    "    for f in files:\n",
    "        temp_img = load_img(f, color_mode='grayscale')\n",
    "        arr      = img_to_array(temp_img)\n",
    "        X.append(arr)\n",
    "    X = np.asarray(X)\n",
    "    X = X.astype('float32')\n",
    "    X = X / 255.0\n",
    "    \n",
    "    # Y\n",
    "    with open('labels.json') as f:\n",
    "        data = json.load(f)\n",
    "    for d in data:\n",
    "        y = [(d['center'][0]-64), (d['center'][1]-64), d['radius']]\n",
    "        Y.append(y)\n",
    "    Y = np.asarray(Y)\n",
    "    Y = Y.astype('float32')\n",
    "    return X, Y"
   ]
  },
  {
   "cell_type": "code",
   "execution_count": 38,
   "metadata": {},
   "outputs": [],
   "source": [
    "X, Y = generate_dataset() # this takes a while, idk why."
   ]
  },
  {
   "cell_type": "code",
   "execution_count": 39,
   "metadata": {},
   "outputs": [
    {
     "data": {
      "text/plain": [
       "((10220, 128, 128, 1), (10220, 3))"
      ]
     },
     "execution_count": 39,
     "metadata": {},
     "output_type": "execute_result"
    }
   ],
   "source": [
    "X.shape, Y.shape"
   ]
  },
  {
   "cell_type": "code",
   "execution_count": 40,
   "metadata": {},
   "outputs": [],
   "source": [
    "X_train, X_test, y_train, y_test = train_test_split(X, Y, test_size=0.33, random_state=111)\n"
   ]
  },
  {
   "cell_type": "code",
   "execution_count": 41,
   "metadata": {},
   "outputs": [],
   "source": [
    "# CNNを構築\n",
    "model = Sequential()\n",
    "\n",
    "model.add(Conv2D(16, (3, 3), padding='same',\n",
    "                 input_shape=X_train.shape[1:]))\n",
    "model.add(Activation('relu'))\n",
    "model.add(Conv2D(16, (3, 3)))\n",
    "model.add(BatchNormalization())\n",
    "model.add(Activation('relu'))\n",
    "model.add(MaxPooling2D(pool_size=(2, 2)))\n",
    "model.add(Dropout(0.25))\n",
    "\n",
    "model.add(Conv2D(32, (3, 3), padding='same'))\n",
    "model.add(Activation('relu'))\n",
    "model.add(Conv2D(32, (3, 3)))\n",
    "model.add(BatchNormalization())\n",
    "model.add(Activation('relu'))\n",
    "model.add(MaxPooling2D(pool_size=(2, 2)))\n",
    "model.add(Dropout(0.25))\n",
    "\n",
    "model.add(Flatten())\n",
    "model.add(Dense(512))\n",
    "model.add(Activation('relu'))\n",
    "model.add(Dropout(0.1))\n",
    "model.add(Dense(256))\n",
    "model.add(Activation('relu'))\n",
    "model.add(Dropout(0.1))\n",
    "model.add(Dense(3))\n",
    "# コンパイル\n",
    "model.compile(loss='mean_squared_error',\n",
    "              optimizer='adam',\n",
    "              metrics=['mean_squared_error'])\n",
    "\n"
   ]
  },
  {
   "cell_type": "code",
   "execution_count": null,
   "metadata": {},
   "outputs": [
    {
     "name": "stdout",
     "output_type": "stream",
     "text": [
      "Epoch 1/100\n",
      "54/54 [==============================] - 3s 63ms/step - loss: 126.8054 - mean_squared_error: 126.8054 - val_loss: 131.8549 - val_mean_squared_error: 131.8549\n",
      "Epoch 2/100\n",
      "54/54 [==============================] - 3s 63ms/step - loss: 126.5977 - mean_squared_error: 126.5977 - val_loss: 134.3229 - val_mean_squared_error: 134.3229\n",
      "Epoch 3/100\n",
      "54/54 [==============================] - 3s 63ms/step - loss: 126.9047 - mean_squared_error: 126.9047 - val_loss: 131.9890 - val_mean_squared_error: 131.9890\n",
      "Epoch 4/100\n",
      "54/54 [==============================] - 3s 63ms/step - loss: 126.8372 - mean_squared_error: 126.8372 - val_loss: 132.3943 - val_mean_squared_error: 132.3943\n",
      "Epoch 5/100\n",
      "54/54 [==============================] - 3s 63ms/step - loss: 126.4209 - mean_squared_error: 126.4209 - val_loss: 133.6941 - val_mean_squared_error: 133.6941\n",
      "Epoch 6/100\n",
      "54/54 [==============================] - 3s 63ms/step - loss: 126.5150 - mean_squared_error: 126.5150 - val_loss: 133.1147 - val_mean_squared_error: 133.1147\n",
      "Epoch 7/100\n",
      "54/54 [==============================] - 3s 63ms/step - loss: 126.2110 - mean_squared_error: 126.2110 - val_loss: 133.9985 - val_mean_squared_error: 133.9985\n",
      "Epoch 8/100\n",
      "54/54 [==============================] - 3s 63ms/step - loss: 125.4740 - mean_squared_error: 125.4740 - val_loss: 133.5708 - val_mean_squared_error: 133.5708\n",
      "Epoch 9/100\n",
      "54/54 [==============================] - 3s 63ms/step - loss: 125.3808 - mean_squared_error: 125.3808 - val_loss: 133.6656 - val_mean_squared_error: 133.6656\n",
      "Epoch 10/100\n",
      "54/54 [==============================] - 3s 63ms/step - loss: 125.1954 - mean_squared_error: 125.1954 - val_loss: 134.0790 - val_mean_squared_error: 134.0790\n",
      "Epoch 11/100\n",
      "54/54 [==============================] - 3s 63ms/step - loss: 124.8729 - mean_squared_error: 124.8729 - val_loss: 137.1365 - val_mean_squared_error: 137.1365\n",
      "Epoch 12/100\n",
      "54/54 [==============================] - 3s 63ms/step - loss: 124.5188 - mean_squared_error: 124.5188 - val_loss: 135.2357 - val_mean_squared_error: 135.2357\n",
      "Epoch 13/100\n",
      "54/54 [==============================] - 3s 63ms/step - loss: 124.1901 - mean_squared_error: 124.1901 - val_loss: 137.7729 - val_mean_squared_error: 137.7729\n",
      "Epoch 14/100\n",
      "54/54 [==============================] - 3s 63ms/step - loss: 123.4507 - mean_squared_error: 123.4507 - val_loss: 135.6524 - val_mean_squared_error: 135.6524\n",
      "Epoch 15/100\n",
      "54/54 [==============================] - 3s 63ms/step - loss: 122.9097 - mean_squared_error: 122.9097 - val_loss: 135.8955 - val_mean_squared_error: 135.8955\n",
      "Epoch 16/100\n",
      "54/54 [==============================] - 3s 63ms/step - loss: 122.1281 - mean_squared_error: 122.1281 - val_loss: 138.5795 - val_mean_squared_error: 138.5795\n",
      "Epoch 17/100\n",
      "54/54 [==============================] - 3s 63ms/step - loss: 122.1147 - mean_squared_error: 122.1147 - val_loss: 139.8398 - val_mean_squared_error: 139.8398\n",
      "Epoch 18/100\n",
      "54/54 [==============================] - 4s 80ms/step - loss: 121.0798 - mean_squared_error: 121.0798 - val_loss: 136.6657 - val_mean_squared_error: 136.6657\n",
      "Epoch 19/100\n",
      "54/54 [==============================] - 4s 68ms/step - loss: 120.5447 - mean_squared_error: 120.5447 - val_loss: 137.0773 - val_mean_squared_error: 137.0773\n",
      "Epoch 20/100\n",
      "54/54 [==============================] - 4s 70ms/step - loss: 119.5568 - mean_squared_error: 119.5568 - val_loss: 139.9271 - val_mean_squared_error: 139.9271\n",
      "Epoch 21/100\n",
      "54/54 [==============================] - 4s 75ms/step - loss: 119.5080 - mean_squared_error: 119.5080 - val_loss: 138.8187 - val_mean_squared_error: 138.8187\n",
      "Epoch 22/100\n",
      "54/54 [==============================] - 4s 69ms/step - loss: 118.4657 - mean_squared_error: 118.4657 - val_loss: 137.2459 - val_mean_squared_error: 137.2459\n",
      "Epoch 23/100\n",
      "54/54 [==============================] - 4s 66ms/step - loss: 117.4470 - mean_squared_error: 117.4470 - val_loss: 140.0096 - val_mean_squared_error: 140.0096\n",
      "Epoch 24/100\n",
      "54/54 [==============================] - 4s 67ms/step - loss: 117.0275 - mean_squared_error: 117.0275 - val_loss: 139.4523 - val_mean_squared_error: 139.4523\n",
      "Epoch 25/100\n",
      "54/54 [==============================] - 3s 64ms/step - loss: 116.4840 - mean_squared_error: 116.4840 - val_loss: 140.5639 - val_mean_squared_error: 140.5639\n",
      "Epoch 26/100\n",
      "54/54 [==============================] - 3s 63ms/step - loss: 115.5350 - mean_squared_error: 115.5350 - val_loss: 140.1433 - val_mean_squared_error: 140.1433\n",
      "Epoch 27/100\n",
      "54/54 [==============================] - 3s 63ms/step - loss: 114.5969 - mean_squared_error: 114.5969 - val_loss: 143.1491 - val_mean_squared_error: 143.1491\n",
      "Epoch 28/100\n",
      "29/54 [===============>..............] - ETA: 1s - loss: 114.8631 - mean_squared_error: 114.8631"
     ]
    }
   ],
   "source": [
    "# 実行。出力はなしで設定(verbose=0)。\n",
    "history = model.fit(X_train, y_train, batch_size=128, epochs=100,\n",
    "                   validation_data = (X_test, y_test))\n"
   ]
  },
  {
   "cell_type": "code",
   "execution_count": 50,
   "metadata": {},
   "outputs": [
    {
     "data": {
      "image/png": "[encoded data removed]",
      "text/plain": [
       "<Figure size 432x288 with 1 Axes>"
      ]
     },
     "metadata": {
      "needs_background": "light"
     },
     "output_type": "display_data"
    }
   ],
   "source": [
    "plt.plot(history.history['loss'])\n",
    "plt.plot(history.history['val_loss'])\n",
    "plt.title('model accuracy')\n",
    "plt.xlabel('epoch')\n",
    "plt.ylabel('accuracy')\n",
    "plt.legend(['acc', 'val_acc'], loc='lower right')\n",
    "plt.show()"
   ]
  },
  {
   "cell_type": "code",
   "execution_count": 46,
   "metadata": {},
   "outputs": [
    {
     "data": {
      "text/plain": [
       "array([ 9.,  6., 26.], dtype=float32)"
      ]
     },
     "execution_count": 46,
     "metadata": {},
     "output_type": "execute_result"
    }
   ],
   "source": [
    "y_train[0]"
   ]
  },
  {
   "cell_type": "code",
   "execution_count": 47,
   "metadata": {},
   "outputs": [
    {
     "data": {
      "text/plain": [
       "array([[ 0.11771958, -0.40621808, 20.273153  ],\n",
       "       [ 0.23624554, -0.3974289 , 19.238062  ],\n",
       "       [ 0.16246584, -0.44428834, 20.275105  ],\n",
       "       [ 0.13844208, -0.3739761 , 17.865639  ],\n",
       "       [ 0.22123371, -0.45375454, 20.344955  ],\n",
       "       [ 0.07486516, -0.45894265, 20.414692  ],\n",
       "       [ 0.20467855, -0.40446612, 19.428253  ],\n",
       "       [ 0.1569763 , -0.40872708, 18.91329   ],\n",
       "       [ 0.08687222, -0.42300057, 20.291718  ],\n",
       "       [ 0.27209765, -0.34446567, 16.094784  ]], dtype=float32)"
      ]
     },
     "execution_count": 47,
     "metadata": {},
     "output_type": "execute_result"
    }
   ],
   "source": [
    "model.predict(X_test)[:10]"
   ]
  },
  {
   "cell_type": "code",
   "execution_count": 48,
   "metadata": {},
   "outputs": [
    {
     "data": {
      "text/plain": [
       "array([[-13.,  18.,   5.],\n",
       "       [  3.,  13.,  12.],\n",
       "       [-17., -11.,  11.],\n",
       "       [-15.,   6.,   6.],\n",
       "       [-10., -16.,  19.],\n",
       "       [  9.,   7.,   8.],\n",
       "       [  5., -13.,  38.],\n",
       "       [ 15., -17.,  24.],\n",
       "       [  3.,   1.,  38.],\n",
       "       [ -5.,   9.,  11.]], dtype=float32)"
      ]
     },
     "execution_count": 48,
     "metadata": {},
     "output_type": "execute_result"
    }
   ],
   "source": [
    "y_test[:10]"
   ]
  },
  {
   "cell_type": "markdown",
   "metadata": {},
   "source": [
    "https://jp.mathworks.com/help/deeplearning/ug/train-a-convolutional-neural-network-for-regression.html"
   ]
  },
  {
   "cell_type": "code",
   "execution_count": 31,
   "metadata": {},
   "outputs": [
    {
     "name": "stdout",
     "output_type": "stream",
     "text": [
      "INFO:tensorflow:Assets written to: 20210818-00\\assets\n"
     ]
    }
   ],
   "source": [
    "# TODO: Normalization?\n",
    "# integer output made everthing pretty nice.\n",
    "model.save('20210818-00')"
   ]
  },
  {
   "cell_type": "code",
   "execution_count": null,
   "metadata": {},
   "outputs": [],
   "source": []
  }
 ],
 "metadata": {
  "interpreter": {
   "hash": "300e5761ebde2b2bb7011c360549655aaa968a4bb618514aa4d40b70c5330d68"
  },
  "kernelspec": {
   "display_name": "Python 3",
   "language": "python",
   "name": "python3"
  },
  "language_info": {
   "codemirror_mode": {
    "name": "ipython",
    "version": 3
   },
   "file_extension": ".py",
   "mimetype": "text/x-python",
   "name": "python",
   "nbconvert_exporter": "python",
   "pygments_lexer": "ipython3",
   "version": "3.8.5"
  }
 },
 "nbformat": 4,
 "nbformat_minor": 4
}
