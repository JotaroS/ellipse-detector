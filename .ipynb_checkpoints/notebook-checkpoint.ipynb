{
 "cells": [
  {
   "cell_type": "code",
   "execution_count": 1,
   "metadata": {},
   "outputs": [],
   "source": [
    "import keras\n",
    "from keras.utils import np_utils\n",
    "from keras.layers.convolutional import Conv2D, MaxPooling2D\n",
    "from keras.models import Sequential\n",
    "from keras.layers.core import Dense, Dropout, Activation, Flatten\n",
    "from keras.layers import BatchNormalization\n",
    "from keras.preprocessing.image import array_to_img, img_to_array, load_img\n",
    "import numpy as np\n",
    "import pandas as pd\n",
    "from sklearn.model_selection import train_test_split\n",
    "import matplotlib.pyplot as plt\n",
    "import glob\n",
    "import json\n",
    "from sklearn.preprocessing import StandardScaler"
   ]
  },
  {
   "cell_type": "markdown",
   "metadata": {},
   "source": [
    "turning an image into array"
   ]
  },
  {
   "cell_type": "code",
   "execution_count": 2,
   "metadata": {},
   "outputs": [],
   "source": [
    "temp_img = load_img('./cropped/0.jpg', color_mode='grayscale')"
   ]
  },
  {
   "cell_type": "code",
   "execution_count": 3,
   "metadata": {},
   "outputs": [
    {
     "data": {
      "image/png": "[encoded data removed]",
      "text/plain": [
       "<PIL.JpegImagePlugin.JpegImageFile image mode=L size=128x128 at 0x1A17B8C7490>"
      ]
     },
     "execution_count": 3,
     "metadata": {},
     "output_type": "execute_result"
    }
   ],
   "source": [
    "temp_img"
   ]
  },
  {
   "cell_type": "code",
   "execution_count": 4,
   "metadata": {},
   "outputs": [],
   "source": [
    "temp_img_array = img_to_array(temp_img)"
   ]
  },
  {
   "cell_type": "code",
   "execution_count": 5,
   "metadata": {},
   "outputs": [
    {
     "data": {
      "text/plain": [
       "(128, 128, 1)"
      ]
     },
     "execution_count": 5,
     "metadata": {},
     "output_type": "execute_result"
    }
   ],
   "source": [
    "temp_img_array.shape"
   ]
  },
  {
   "cell_type": "code",
   "execution_count": 19,
   "metadata": {},
   "outputs": [],
   "source": [
    "def generate_dataset():\n",
    "    X = []\n",
    "    Y = []\n",
    "    \n",
    "    # X\n",
    "    files = glob.glob('./cropped/*.jpg')\n",
    "    files.sort()\n",
    "    for f in files:\n",
    "        temp_img = load_img(f, color_mode='grayscale')\n",
    "        arr      = img_to_array(temp_img)\n",
    "        X.append(arr)\n",
    "    X = np.asarray(X)\n",
    "    X = X.astype('float32')\n",
    "    X = X / 255.0\n",
    "    \n",
    "    # Y\n",
    "    with open('labels.json') as f:\n",
    "        data = json.load(f)\n",
    "    for d in data:\n",
    "        y = [(d['center'][0]-64), (d['center'][1]-64), d['radius']]\n",
    "        Y.append(y)\n",
    "    Y = np.asarray(Y)\n",
    "    Y = Y.astype('float32')\n",
    "    return X, Y"
   ]
  },
  {
   "cell_type": "code",
   "execution_count": 20,
   "metadata": {},
   "outputs": [],
   "source": [
    "X, Y = generate_dataset()"
   ]
  },
  {
   "cell_type": "code",
   "execution_count": 21,
   "metadata": {},
   "outputs": [
    {
     "data": {
      "text/plain": [
       "(2044, 128, 128, 1)"
      ]
     },
     "execution_count": 21,
     "metadata": {},
     "output_type": "execute_result"
    }
   ],
   "source": [
    "X.shape"
   ]
  },
  {
   "cell_type": "code",
   "execution_count": 22,
   "metadata": {},
   "outputs": [
    {
     "data": {
      "text/plain": [
       "(2044, 3)"
      ]
     },
     "execution_count": 22,
     "metadata": {},
     "output_type": "execute_result"
    }
   ],
   "source": [
    "Y.shape"
   ]
  },
  {
   "cell_type": "code",
   "execution_count": null,
   "metadata": {},
   "outputs": [],
   "source": []
  },
  {
   "cell_type": "code",
   "execution_count": null,
   "metadata": {},
   "outputs": [],
   "source": []
  },
  {
   "cell_type": "code",
   "execution_count": 23,
   "metadata": {},
   "outputs": [],
   "source": [
    "X_train, X_test, y_train, y_test = train_test_split(X, Y, test_size=0.33, random_state=111)\n"
   ]
  },
  {
   "cell_type": "code",
   "execution_count": 24,
   "metadata": {},
   "outputs": [],
   "source": [
    "# CNNを構築\n",
    "model = Sequential()\n",
    "\n",
    "model.add(Conv2D(16, (3, 3), padding='same',\n",
    "                 input_shape=X_train.shape[1:]))\n",
    "model.add(Activation('relu'))\n",
    "model.add(Conv2D(16, (3, 3)))\n",
    "model.add(BatchNormalization())\n",
    "model.add(Activation('relu'))\n",
    "model.add(MaxPooling2D(pool_size=(2, 2)))\n",
    "model.add(Dropout(0.25))\n",
    "\n",
    "model.add(Conv2D(32, (3, 3), padding='same'))\n",
    "model.add(Activation('relu'))\n",
    "model.add(Conv2D(32, (3, 3)))\n",
    "model.add(BatchNormalization())\n",
    "model.add(Activation('relu'))\n",
    "model.add(MaxPooling2D(pool_size=(2, 2)))\n",
    "model.add(Dropout(0.25))\n",
    "\n",
    "model.add(Flatten())\n",
    "model.add(Dense(512))\n",
    "model.add(Activation('relu'))\n",
    "model.add(Dropout(0.1))\n",
    "model.add(Dense(256))\n",
    "model.add(Activation('relu'))\n",
    "model.add(Dropout(0.1))\n",
    "model.add(Dense(3))\n",
    "# コンパイル\n",
    "model.compile(loss='mean_squared_error',\n",
    "              optimizer='adam',\n",
    "              metrics=['mean_squared_error'])\n",
    "\n"
   ]
  },
  {
   "cell_type": "code",
   "execution_count": 25,
   "metadata": {},
   "outputs": [
    {
     "name": "stdout",
     "output_type": "stream",
     "text": [
      "Epoch 1/100\n",
      "274/274 [==============================] - 5s 11ms/step - loss: 213.1170 - mean_squared_error: 213.1170 - val_loss: 91.1920 - val_mean_squared_error: 91.1920\n",
      "Epoch 2/100\n",
      "274/274 [==============================] - 2s 9ms/step - loss: 50.2345 - mean_squared_error: 50.2345 - val_loss: 53.4470 - val_mean_squared_error: 53.4470\n",
      "Epoch 3/100\n",
      "274/274 [==============================] - 2s 9ms/step - loss: 40.4888 - mean_squared_error: 40.4888 - val_loss: 67.4217 - val_mean_squared_error: 67.4217\n",
      "Epoch 4/100\n",
      "274/274 [==============================] - 2s 9ms/step - loss: 33.1357 - mean_squared_error: 33.1357 - val_loss: 34.8348 - val_mean_squared_error: 34.8348\n",
      "Epoch 5/100\n",
      "274/274 [==============================] - 2s 9ms/step - loss: 28.0008 - mean_squared_error: 28.0008 - val_loss: 22.2821 - val_mean_squared_error: 22.2821\n",
      "Epoch 6/100\n",
      "274/274 [==============================] - 3s 10ms/step - loss: 25.7082 - mean_squared_error: 25.7082 - val_loss: 25.9097 - val_mean_squared_error: 25.9097\n",
      "Epoch 7/100\n",
      "274/274 [==============================] - 3s 9ms/step - loss: 21.2063 - mean_squared_error: 21.2063 - val_loss: 51.7197 - val_mean_squared_error: 51.7197\n",
      "Epoch 8/100\n",
      "274/274 [==============================] - 3s 9ms/step - loss: 19.6274 - mean_squared_error: 19.6274 - val_loss: 111.9314 - val_mean_squared_error: 111.9314\n",
      "Epoch 9/100\n",
      "274/274 [==============================] - 2s 9ms/step - loss: 17.7697 - mean_squared_error: 17.7697 - val_loss: 21.1913 - val_mean_squared_error: 21.1913\n",
      "Epoch 10/100\n",
      "274/274 [==============================] - 3s 10ms/step - loss: 15.7106 - mean_squared_error: 15.7106 - val_loss: 29.6337 - val_mean_squared_error: 29.6337\n",
      "Epoch 11/100\n",
      "274/274 [==============================] - 3s 9ms/step - loss: 18.9400 - mean_squared_error: 18.9400 - val_loss: 26.8707 - val_mean_squared_error: 26.8707\n",
      "Epoch 12/100\n",
      "274/274 [==============================] - 3s 10ms/step - loss: 13.4668 - mean_squared_error: 13.4668 - val_loss: 15.5095 - val_mean_squared_error: 15.5095\n",
      "Epoch 13/100\n",
      "274/274 [==============================] - 2s 9ms/step - loss: 13.7849 - mean_squared_error: 13.7849 - val_loss: 18.9346 - val_mean_squared_error: 18.9346\n",
      "Epoch 14/100\n",
      "274/274 [==============================] - 2s 9ms/step - loss: 12.8724 - mean_squared_error: 12.8724 - val_loss: 27.1344 - val_mean_squared_error: 27.1344\n",
      "Epoch 15/100\n",
      "274/274 [==============================] - 3s 9ms/step - loss: 11.6911 - mean_squared_error: 11.6911 - val_loss: 15.4272 - val_mean_squared_error: 15.4272\n",
      "Epoch 16/100\n",
      "274/274 [==============================] - 3s 9ms/step - loss: 11.6487 - mean_squared_error: 11.6487 - val_loss: 15.5890 - val_mean_squared_error: 15.5890\n",
      "Epoch 17/100\n",
      "274/274 [==============================] - 3s 9ms/step - loss: 12.0568 - mean_squared_error: 12.0568 - val_loss: 16.3495 - val_mean_squared_error: 16.3495\n",
      "Epoch 18/100\n",
      "274/274 [==============================] - 3s 9ms/step - loss: 10.5401 - mean_squared_error: 10.5401 - val_loss: 16.5770 - val_mean_squared_error: 16.5770\n",
      "Epoch 19/100\n",
      "274/274 [==============================] - 3s 9ms/step - loss: 10.1898 - mean_squared_error: 10.1898 - val_loss: 25.8719 - val_mean_squared_error: 25.8719\n",
      "Epoch 20/100\n",
      "274/274 [==============================] - 3s 9ms/step - loss: 12.3836 - mean_squared_error: 12.3836 - val_loss: 13.5277 - val_mean_squared_error: 13.5277\n",
      "Epoch 21/100\n",
      "274/274 [==============================] - 3s 9ms/step - loss: 10.3779 - mean_squared_error: 10.3779 - val_loss: 27.4801 - val_mean_squared_error: 27.4801\n",
      "Epoch 22/100\n",
      "274/274 [==============================] - 2s 9ms/step - loss: 10.2624 - mean_squared_error: 10.2624 - val_loss: 24.7459 - val_mean_squared_error: 24.7459\n",
      "Epoch 23/100\n",
      "274/274 [==============================] - 3s 9ms/step - loss: 9.6690 - mean_squared_error: 9.6690 - val_loss: 15.0188 - val_mean_squared_error: 15.0188\n",
      "Epoch 24/100\n",
      "274/274 [==============================] - 2s 9ms/step - loss: 8.6011 - mean_squared_error: 8.6011 - val_loss: 15.1778 - val_mean_squared_error: 15.1778\n",
      "Epoch 25/100\n",
      "274/274 [==============================] - 2s 9ms/step - loss: 8.3099 - mean_squared_error: 8.3099 - val_loss: 15.9630 - val_mean_squared_error: 15.9630\n",
      "Epoch 26/100\n",
      "274/274 [==============================] - 2s 9ms/step - loss: 9.0603 - mean_squared_error: 9.0603 - val_loss: 18.9038 - val_mean_squared_error: 18.9038\n",
      "Epoch 27/100\n",
      "274/274 [==============================] - 2s 9ms/step - loss: 9.3030 - mean_squared_error: 9.3030 - val_loss: 16.6249 - val_mean_squared_error: 16.6249\n",
      "Epoch 28/100\n",
      "274/274 [==============================] - 3s 10ms/step - loss: 7.6628 - mean_squared_error: 7.6628 - val_loss: 23.0931 - val_mean_squared_error: 23.0931\n",
      "Epoch 29/100\n",
      "274/274 [==============================] - 3s 10ms/step - loss: 7.8989 - mean_squared_error: 7.8989 - val_loss: 17.0017 - val_mean_squared_error: 17.0017\n",
      "Epoch 30/100\n",
      "274/274 [==============================] - 2s 9ms/step - loss: 7.9153 - mean_squared_error: 7.9153 - val_loss: 19.5490 - val_mean_squared_error: 19.5490\n",
      "Epoch 31/100\n",
      "274/274 [==============================] - 2s 9ms/step - loss: 6.7369 - mean_squared_error: 6.7369 - val_loss: 10.1548 - val_mean_squared_error: 10.1548\n",
      "Epoch 32/100\n",
      "274/274 [==============================] - 3s 10ms/step - loss: 7.7488 - mean_squared_error: 7.7488 - val_loss: 15.3980 - val_mean_squared_error: 15.3980\n",
      "Epoch 33/100\n",
      "274/274 [==============================] - 2s 9ms/step - loss: 7.8325 - mean_squared_error: 7.8325 - val_loss: 17.6648 - val_mean_squared_error: 17.6648\n",
      "Epoch 34/100\n",
      "274/274 [==============================] - 3s 9ms/step - loss: 8.2139 - mean_squared_error: 8.2139 - val_loss: 24.9352 - val_mean_squared_error: 24.9352\n",
      "Epoch 35/100\n",
      "274/274 [==============================] - 3s 9ms/step - loss: 6.7788 - mean_squared_error: 6.7788 - val_loss: 11.7024 - val_mean_squared_error: 11.7024\n",
      "Epoch 36/100\n",
      "274/274 [==============================] - 2s 9ms/step - loss: 7.0535 - mean_squared_error: 7.0535 - val_loss: 15.7820 - val_mean_squared_error: 15.7820\n",
      "Epoch 37/100\n",
      "274/274 [==============================] - 2s 9ms/step - loss: 7.8080 - mean_squared_error: 7.8080 - val_loss: 12.7763 - val_mean_squared_error: 12.7763\n",
      "Epoch 38/100\n",
      "274/274 [==============================] - 3s 9ms/step - loss: 6.3599 - mean_squared_error: 6.3599 - val_loss: 16.9207 - val_mean_squared_error: 16.9207\n",
      "Epoch 39/100\n",
      "274/274 [==============================] - 3s 9ms/step - loss: 5.8830 - mean_squared_error: 5.8830 - val_loss: 18.8093 - val_mean_squared_error: 18.8093\n",
      "Epoch 40/100\n",
      "274/274 [==============================] - 2s 9ms/step - loss: 5.9365 - mean_squared_error: 5.9365 - val_loss: 17.6712 - val_mean_squared_error: 17.6712\n",
      "Epoch 41/100\n",
      "274/274 [==============================] - 3s 9ms/step - loss: 5.3719 - mean_squared_error: 5.3719 - val_loss: 20.0549 - val_mean_squared_error: 20.0549\n",
      "Epoch 42/100\n",
      "274/274 [==============================] - 2s 9ms/step - loss: 6.2103 - mean_squared_error: 6.2103 - val_loss: 18.7703 - val_mean_squared_error: 18.7703\n",
      "Epoch 43/100\n",
      "274/274 [==============================] - 2s 9ms/step - loss: 5.6857 - mean_squared_error: 5.6857 - val_loss: 9.7314 - val_mean_squared_error: 9.7314\n",
      "Epoch 44/100\n",
      "274/274 [==============================] - 2s 9ms/step - loss: 6.1999 - mean_squared_error: 6.1999 - val_loss: 9.3685 - val_mean_squared_error: 9.3685\n",
      "Epoch 45/100\n",
      "274/274 [==============================] - 2s 9ms/step - loss: 5.9430 - mean_squared_error: 5.9430 - val_loss: 18.3822 - val_mean_squared_error: 18.3822\n",
      "Epoch 46/100\n",
      "274/274 [==============================] - 2s 9ms/step - loss: 6.2942 - mean_squared_error: 6.2942 - val_loss: 9.5404 - val_mean_squared_error: 9.5404\n",
      "Epoch 47/100\n",
      "274/274 [==============================] - 3s 10ms/step - loss: 4.6580 - mean_squared_error: 4.6580 - val_loss: 11.9157 - val_mean_squared_error: 11.9157\n",
      "Epoch 48/100\n",
      "274/274 [==============================] - 3s 10ms/step - loss: 5.6431 - mean_squared_error: 5.6431 - val_loss: 30.5333 - val_mean_squared_error: 30.5333\n",
      "Epoch 49/100\n",
      "274/274 [==============================] - 2s 9ms/step - loss: 5.6923 - mean_squared_error: 5.6923 - val_loss: 10.3539 - val_mean_squared_error: 10.3539\n",
      "Epoch 50/100\n",
      "274/274 [==============================] - 2s 9ms/step - loss: 5.7156 - mean_squared_error: 5.7156 - val_loss: 14.1964 - val_mean_squared_error: 14.1965\n",
      "Epoch 51/100\n",
      "274/274 [==============================] - 2s 9ms/step - loss: 5.0552 - mean_squared_error: 5.0552 - val_loss: 10.7042 - val_mean_squared_error: 10.7042\n",
      "Epoch 52/100\n",
      "274/274 [==============================] - 2s 9ms/step - loss: 4.4232 - mean_squared_error: 4.4232 - val_loss: 16.5280 - val_mean_squared_error: 16.5280\n",
      "Epoch 53/100\n",
      "274/274 [==============================] - 2s 9ms/step - loss: 4.5694 - mean_squared_error: 4.5694 - val_loss: 10.1296 - val_mean_squared_error: 10.1296\n",
      "Epoch 54/100\n",
      "274/274 [==============================] - 2s 9ms/step - loss: 6.0199 - mean_squared_error: 6.0199 - val_loss: 15.2819 - val_mean_squared_error: 15.2819\n",
      "Epoch 55/100\n",
      "274/274 [==============================] - 2s 9ms/step - loss: 5.6992 - mean_squared_error: 5.6992 - val_loss: 13.1641 - val_mean_squared_error: 13.1641\n",
      "Epoch 56/100\n",
      "274/274 [==============================] - 2s 9ms/step - loss: 5.2124 - mean_squared_error: 5.2124 - val_loss: 17.4171 - val_mean_squared_error: 17.4171\n",
      "Epoch 57/100\n",
      "274/274 [==============================] - 2s 9ms/step - loss: 5.4423 - mean_squared_error: 5.4423 - val_loss: 12.6109 - val_mean_squared_error: 12.6109\n",
      "Epoch 58/100\n",
      "274/274 [==============================] - 2s 9ms/step - loss: 4.7049 - mean_squared_error: 4.7049 - val_loss: 14.8807 - val_mean_squared_error: 14.8807\n",
      "Epoch 59/100\n",
      "274/274 [==============================] - 2s 9ms/step - loss: 4.8771 - mean_squared_error: 4.8771 - val_loss: 11.2300 - val_mean_squared_error: 11.2300\n",
      "Epoch 60/100\n",
      "274/274 [==============================] - 2s 9ms/step - loss: 5.0176 - mean_squared_error: 5.0176 - val_loss: 12.6149 - val_mean_squared_error: 12.6149\n",
      "Epoch 61/100\n",
      "274/274 [==============================] - 2s 9ms/step - loss: 4.6971 - mean_squared_error: 4.6971 - val_loss: 11.0434 - val_mean_squared_error: 11.0434\n",
      "Epoch 62/100\n",
      "274/274 [==============================] - 2s 9ms/step - loss: 4.1999 - mean_squared_error: 4.1999 - val_loss: 10.7994 - val_mean_squared_error: 10.7994\n",
      "Epoch 63/100\n",
      "274/274 [==============================] - 3s 9ms/step - loss: 4.6280 - mean_squared_error: 4.6280 - val_loss: 17.8048 - val_mean_squared_error: 17.8048\n",
      "Epoch 64/100\n",
      "274/274 [==============================] - 3s 10ms/step - loss: 4.7330 - mean_squared_error: 4.7330 - val_loss: 9.1928 - val_mean_squared_error: 9.1928\n",
      "Epoch 65/100\n",
      "274/274 [==============================] - 3s 10ms/step - loss: 4.5731 - mean_squared_error: 4.5731 - val_loss: 8.5692 - val_mean_squared_error: 8.5692\n",
      "Epoch 66/100\n",
      "274/274 [==============================] - 3s 11ms/step - loss: 4.2877 - mean_squared_error: 4.2877 - val_loss: 20.2289 - val_mean_squared_error: 20.2289\n",
      "Epoch 67/100\n",
      "274/274 [==============================] - 3s 11ms/step - loss: 3.9521 - mean_squared_error: 3.9521 - val_loss: 11.9078 - val_mean_squared_error: 11.9078\n",
      "Epoch 68/100\n",
      "274/274 [==============================] - 3s 10ms/step - loss: 4.4583 - mean_squared_error: 4.4583 - val_loss: 21.4798 - val_mean_squared_error: 21.4798\n",
      "Epoch 69/100\n",
      "274/274 [==============================] - 3s 10ms/step - loss: 5.5972 - mean_squared_error: 5.5972 - val_loss: 8.4525 - val_mean_squared_error: 8.4525\n",
      "Epoch 70/100\n",
      "274/274 [==============================] - 3s 10ms/step - loss: 4.7926 - mean_squared_error: 4.7926 - val_loss: 11.2194 - val_mean_squared_error: 11.2194\n",
      "Epoch 71/100\n",
      "274/274 [==============================] - 2s 9ms/step - loss: 4.0246 - mean_squared_error: 4.0246 - val_loss: 9.5149 - val_mean_squared_error: 9.5149\n",
      "Epoch 72/100\n",
      "274/274 [==============================] - 3s 9ms/step - loss: 3.5213 - mean_squared_error: 3.5213 - val_loss: 9.0122 - val_mean_squared_error: 9.0122\n",
      "Epoch 73/100\n",
      "274/274 [==============================] - 3s 9ms/step - loss: 3.9041 - mean_squared_error: 3.9041 - val_loss: 18.8870 - val_mean_squared_error: 18.8870\n",
      "Epoch 74/100\n",
      "274/274 [==============================] - 3s 10ms/step - loss: 4.0422 - mean_squared_error: 4.0422 - val_loss: 6.9356 - val_mean_squared_error: 6.9356\n",
      "Epoch 75/100\n",
      "274/274 [==============================] - 3s 10ms/step - loss: 4.5106 - mean_squared_error: 4.5106 - val_loss: 12.4521 - val_mean_squared_error: 12.4521\n",
      "Epoch 76/100\n",
      "274/274 [==============================] - 3s 9ms/step - loss: 3.9061 - mean_squared_error: 3.9061 - val_loss: 10.6026 - val_mean_squared_error: 10.6026\n",
      "Epoch 77/100\n",
      "274/274 [==============================] - 3s 10ms/step - loss: 4.1098 - mean_squared_error: 4.1098 - val_loss: 9.8049 - val_mean_squared_error: 9.8049\n",
      "Epoch 78/100\n",
      "274/274 [==============================] - 3s 9ms/step - loss: 4.0782 - mean_squared_error: 4.0782 - val_loss: 10.1225 - val_mean_squared_error: 10.1225\n",
      "Epoch 79/100\n",
      "274/274 [==============================] - 3s 9ms/step - loss: 3.8383 - mean_squared_error: 3.8383 - val_loss: 8.2182 - val_mean_squared_error: 8.2182\n",
      "Epoch 80/100\n",
      "274/274 [==============================] - 2s 9ms/step - loss: 4.5992 - mean_squared_error: 4.5992 - val_loss: 9.8463 - val_mean_squared_error: 9.8463\n",
      "Epoch 81/100\n",
      "274/274 [==============================] - 2s 9ms/step - loss: 3.6910 - mean_squared_error: 3.6910 - val_loss: 11.2132 - val_mean_squared_error: 11.2132\n",
      "Epoch 82/100\n",
      "274/274 [==============================] - 2s 9ms/step - loss: 3.9438 - mean_squared_error: 3.9438 - val_loss: 10.6399 - val_mean_squared_error: 10.6399\n",
      "Epoch 83/100\n",
      "274/274 [==============================] - 3s 9ms/step - loss: 4.0120 - mean_squared_error: 4.0120 - val_loss: 11.0036 - val_mean_squared_error: 11.0036\n",
      "Epoch 84/100\n",
      "274/274 [==============================] - 3s 9ms/step - loss: 4.1871 - mean_squared_error: 4.1871 - val_loss: 10.4156 - val_mean_squared_error: 10.4156\n",
      "Epoch 85/100\n",
      "274/274 [==============================] - 3s 10ms/step - loss: 3.8628 - mean_squared_error: 3.8628 - val_loss: 10.9809 - val_mean_squared_error: 10.9809\n",
      "Epoch 86/100\n",
      "274/274 [==============================] - 3s 9ms/step - loss: 4.1398 - mean_squared_error: 4.1398 - val_loss: 11.0402 - val_mean_squared_error: 11.0402\n",
      "Epoch 87/100\n",
      "274/274 [==============================] - 3s 9ms/step - loss: 3.7204 - mean_squared_error: 3.7204 - val_loss: 8.6734 - val_mean_squared_error: 8.6734\n",
      "Epoch 88/100\n",
      "274/274 [==============================] - 2s 9ms/step - loss: 4.0551 - mean_squared_error: 4.0551 - val_loss: 14.3825 - val_mean_squared_error: 14.3825\n",
      "Epoch 89/100\n",
      "274/274 [==============================] - 2s 9ms/step - loss: 3.4911 - mean_squared_error: 3.4911 - val_loss: 11.6053 - val_mean_squared_error: 11.6053\n",
      "Epoch 90/100\n",
      "274/274 [==============================] - 2s 9ms/step - loss: 3.5561 - mean_squared_error: 3.5561 - val_loss: 8.3714 - val_mean_squared_error: 8.3714\n",
      "Epoch 91/100\n",
      "274/274 [==============================] - 2s 9ms/step - loss: 3.4453 - mean_squared_error: 3.4453 - val_loss: 19.2711 - val_mean_squared_error: 19.2711\n",
      "Epoch 92/100\n",
      "274/274 [==============================] - 3s 9ms/step - loss: 3.6504 - mean_squared_error: 3.6504 - val_loss: 14.0783 - val_mean_squared_error: 14.0783\n",
      "Epoch 93/100\n",
      "274/274 [==============================] - 3s 10ms/step - loss: 3.7038 - mean_squared_error: 3.7038 - val_loss: 8.8318 - val_mean_squared_error: 8.8318\n",
      "Epoch 94/100\n",
      "274/274 [==============================] - 3s 10ms/step - loss: 3.2974 - mean_squared_error: 3.2974 - val_loss: 7.1685 - val_mean_squared_error: 7.1685\n",
      "Epoch 95/100\n",
      "274/274 [==============================] - 2s 9ms/step - loss: 3.8171 - mean_squared_error: 3.8171 - val_loss: 9.4017 - val_mean_squared_error: 9.4017\n",
      "Epoch 96/100\n",
      "274/274 [==============================] - 2s 9ms/step - loss: 3.5697 - mean_squared_error: 3.5697 - val_loss: 5.9624 - val_mean_squared_error: 5.9624\n",
      "Epoch 97/100\n",
      "274/274 [==============================] - 2s 9ms/step - loss: 3.9886 - mean_squared_error: 3.9886 - val_loss: 11.3031 - val_mean_squared_error: 11.3031\n",
      "Epoch 98/100\n",
      "274/274 [==============================] - 2s 9ms/step - loss: 3.8168 - mean_squared_error: 3.8168 - val_loss: 12.9535 - val_mean_squared_error: 12.9535\n",
      "Epoch 99/100\n",
      "274/274 [==============================] - 2s 9ms/step - loss: 3.5596 - mean_squared_error: 3.5596 - val_loss: 16.7115 - val_mean_squared_error: 16.7115\n",
      "Epoch 100/100\n",
      "274/274 [==============================] - 2s 9ms/step - loss: 3.6450 - mean_squared_error: 3.6450 - val_loss: 9.8863 - val_mean_squared_error: 9.8863\n"
     ]
    }
   ],
   "source": [
    "# 実行。出力はなしで設定(verbose=0)。\n",
    "history = model.fit(X_train, y_train, batch_size=5, epochs=100,\n",
    "                   validation_data = (X_test, y_test))\n"
   ]
  },
  {
   "cell_type": "code",
   "execution_count": 26,
   "metadata": {},
   "outputs": [
    {
     "data": {
      "image/png": "[encoded data removed]",
      "text/plain": [
       "<Figure size 432x288 with 1 Axes>"
      ]
     },
     "metadata": {
      "needs_background": "light"
     },
     "output_type": "display_data"
    }
   ],
   "source": [
    "plt.plot(history.history['loss'])\n",
    "plt.plot(history.history['val_loss'])\n",
    "plt.title('model accuracy')\n",
    "plt.xlabel('epoch')\n",
    "plt.ylabel('accuracy')\n",
    "plt.legend(['acc', 'val_acc'], loc='lower right')\n",
    "plt.show()"
   ]
  },
  {
   "cell_type": "code",
   "execution_count": 27,
   "metadata": {},
   "outputs": [
    {
     "data": {
      "text/plain": [
       "array([ 7.,  5., 30.], dtype=float32)"
      ]
     },
     "execution_count": 27,
     "metadata": {},
     "output_type": "execute_result"
    }
   ],
   "source": [
    "y_train[0]"
   ]
  },
  {
   "cell_type": "code",
   "execution_count": 28,
   "metadata": {},
   "outputs": [
    {
     "data": {
      "text/plain": [
       "array([[-11.800598 ,  -8.456649 ,  12.439291 ],\n",
       "       [ -3.2787485,  -8.107491 ,   6.7340155],\n",
       "       [-16.428963 ,  14.7832155,  24.109276 ],\n",
       "       [ -2.109491 ,  13.924079 ,  13.793481 ],\n",
       "       [ -8.063328 ,   8.669398 ,   7.742694 ],\n",
       "       [ -3.3405638,   1.2523577,  34.527046 ],\n",
       "       [ 14.574166 ,   5.5861716,   9.68586  ],\n",
       "       [-13.298847 ,   4.8192973,  29.964672 ],\n",
       "       [ -4.399782 ,  16.4645   ,  28.475227 ],\n",
       "       [ -9.6120205,  17.78815  ,  31.444725 ]], dtype=float32)"
      ]
     },
     "execution_count": 28,
     "metadata": {},
     "output_type": "execute_result"
    }
   ],
   "source": [
    "model.predict(X_test)[:10]"
   ]
  },
  {
   "cell_type": "code",
   "execution_count": 29,
   "metadata": {},
   "outputs": [
    {
     "data": {
      "text/plain": [
       "array([[-13.,  -9.,  12.],\n",
       "       [ -5., -10.,   7.],\n",
       "       [-19.,  18.,  28.],\n",
       "       [ -2.,  16.,  16.],\n",
       "       [ -8.,   9.,   8.],\n",
       "       [ -4.,   0.,  40.],\n",
       "       [ 17.,   6.,  10.],\n",
       "       [-16.,   7.,  35.],\n",
       "       [ -6.,  20.,  34.],\n",
       "       [-11.,  20.,  36.]], dtype=float32)"
      ]
     },
     "execution_count": 29,
     "metadata": {},
     "output_type": "execute_result"
    }
   ],
   "source": [
    "y_test[:10]"
   ]
  },
  {
   "cell_type": "markdown",
   "metadata": {},
   "source": [
    "https://jp.mathworks.com/help/deeplearning/ug/train-a-convolutional-neural-network-for-regression.html"
   ]
  },
  {
   "cell_type": "code",
   "execution_count": null,
   "metadata": {},
   "outputs": [],
   "source": [
    "#TODO: Normalization?\n"
   ]
  }
 ],
 "metadata": {
  "interpreter": {
   "hash": "300e5761ebde2b2bb7011c360549655aaa968a4bb618514aa4d40b70c5330d68"
  },
  "kernelspec": {
   "display_name": "Python 3",
   "language": "python",
   "name": "python3"
  },
  "language_info": {
   "codemirror_mode": {
    "name": "ipython",
    "version": 3
   },
   "file_extension": ".py",
   "mimetype": "text/x-python",
   "name": "python",
   "nbconvert_exporter": "python",
   "pygments_lexer": "ipython3",
   "version": "3.8.5"
  }
 },
 "nbformat": 4,
 "nbformat_minor": 4
}
