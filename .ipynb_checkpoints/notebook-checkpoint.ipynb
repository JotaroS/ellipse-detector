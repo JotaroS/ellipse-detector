{
 "cells": [
  {
   "cell_type": "code",
   "execution_count": 102,
   "metadata": {},
   "outputs": [],
   "source": [
    "import keras\n",
    "from keras.utils import np_utils\n",
    "from keras.layers.convolutional import Conv2D, MaxPooling2D\n",
    "from keras.models import Sequential\n",
    "from keras.layers.core import Dense, Dropout, Activation, Flatten\n",
    "from keras.layers import BatchNormalization\n",
    "from keras.preprocessing.image import array_to_img, img_to_array, load_img\n",
    "import numpy as np\n",
    "import pandas as pd\n",
    "from sklearn.model_selection import train_test_split\n",
    "import matplotlib.pyplot as plt\n",
    "import glob\n",
    "import json\n",
    "from sklearn.preprocessing import StandardScaler"
   ]
  },
  {
   "cell_type": "markdown",
   "metadata": {},
   "source": [
    "turning an image into array"
   ]
  },
  {
   "cell_type": "code",
   "execution_count": 103,
   "metadata": {},
   "outputs": [],
   "source": [
    "temp_img = load_img('./cropped/0.jpg', color_mode='grayscale')"
   ]
  },
  {
   "cell_type": "code",
   "execution_count": 104,
   "metadata": {},
   "outputs": [
    {
     "data": {
      "image/png": "[encoded data removed]",
      "text/plain": [
       "<PIL.JpegImagePlugin.JpegImageFile image mode=L size=128x128 at 0x7F850951E190>"
      ]
     },
     "execution_count": 104,
     "metadata": {},
     "output_type": "execute_result"
    }
   ],
   "source": [
    "temp_img"
   ]
  },
  {
   "cell_type": "code",
   "execution_count": 105,
   "metadata": {},
   "outputs": [],
   "source": [
    "temp_img_array = img_to_array(temp_img)"
   ]
  },
  {
   "cell_type": "code",
   "execution_count": 106,
   "metadata": {},
   "outputs": [
    {
     "data": {
      "text/plain": [
       "(128, 128, 1)"
      ]
     },
     "execution_count": 106,
     "metadata": {},
     "output_type": "execute_result"
    }
   ],
   "source": [
    "temp_img_array.shape"
   ]
  },
  {
   "cell_type": "code",
   "execution_count": 107,
   "metadata": {},
   "outputs": [],
   "source": [
    "def generate_dataset():\n",
    "    X = []\n",
    "    Y = []\n",
    "    \n",
    "    # X\n",
    "    files = glob.glob('./cropped/*.jpg')\n",
    "    files.sort()\n",
    "    for f in files[:100]:\n",
    "        temp_img = load_img(f, color_mode='grayscale')\n",
    "        arr      = img_to_array(temp_img)\n",
    "        X.append(arr)\n",
    "    X = np.asarray(X)\n",
    "    X = X.astype('float32')\n",
    "    X = X / 255.0\n",
    "    \n",
    "    # Y\n",
    "    with open('labels.json') as f:\n",
    "        data = json.load(f)\n",
    "    for d in data[:100]:\n",
    "        y = [(d['center'][0]-64), (d['center'][1]-64), d['radius']]\n",
    "        Y.append(y)\n",
    "    Y = np.asarray(Y)\n",
    "    Y = Y.astype('float32')\n",
    "    return X, Y"
   ]
  },
  {
   "cell_type": "code",
   "execution_count": 108,
   "metadata": {},
   "outputs": [],
   "source": [
    "X, Y = generate_dataset()"
   ]
  },
  {
   "cell_type": "code",
   "execution_count": 109,
   "metadata": {},
   "outputs": [
    {
     "data": {
      "text/plain": [
       "(100, 128, 128, 1)"
      ]
     },
     "execution_count": 109,
     "metadata": {},
     "output_type": "execute_result"
    }
   ],
   "source": [
    "X.shape"
   ]
  },
  {
   "cell_type": "code",
   "execution_count": 110,
   "metadata": {},
   "outputs": [
    {
     "data": {
      "text/plain": [
       "array([[ 20., -11.,  32.],\n",
       "       [  2.,   5.,  14.],\n",
       "       [ -8.,  -3.,   8.],\n",
       "       [  4.,  11.,  12.],\n",
       "       [  2., -17.,  29.],\n",
       "       [ -6., -16.,  21.],\n",
       "       [-15., -17.,  20.],\n",
       "       [  7., -20.,  20.],\n",
       "       [  1.,  14.,  28.],\n",
       "       [ 14.,  -2.,  29.],\n",
       "       [ 17.,   0.,  24.],\n",
       "       [ 12.,  15.,  35.],\n",
       "       [  7., -11.,  39.],\n",
       "       [ 13.,  11.,  22.],\n",
       "       [ -2.,   0.,   9.],\n",
       "       [ 18.,   9.,   7.],\n",
       "       [ -6., -12.,  21.],\n",
       "       [  4.,  -8.,   8.],\n",
       "       [-11.,   0.,  12.],\n",
       "       [  5., -17.,  32.],\n",
       "       [ 19.,  10.,  17.],\n",
       "       [ 16., -18.,   9.],\n",
       "       [-12.,  16.,  28.],\n",
       "       [ 18.,  18.,  35.],\n",
       "       [ -9.,  -4.,  19.],\n",
       "       [ -2.,   5.,  31.],\n",
       "       [-20.,   7.,  25.],\n",
       "       [ -3.,  15.,   5.],\n",
       "       [ -2.,  -9.,  25.],\n",
       "       [  1., -10.,  10.],\n",
       "       [ -4.,  16.,  21.],\n",
       "       [  6.,  17.,  38.],\n",
       "       [ -8.,  17.,  36.],\n",
       "       [ 19.,   1.,  38.],\n",
       "       [ -4.,  11.,  15.],\n",
       "       [-12.,  -4.,  36.],\n",
       "       [-19.,  14.,  24.],\n",
       "       [  5., -15.,  32.],\n",
       "       [ 19.,  -9.,  12.],\n",
       "       [  8.,  -5.,  28.],\n",
       "       [-11.,  -7.,  13.],\n",
       "       [ -1.,   9.,  11.],\n",
       "       [  1.,  -7.,  19.],\n",
       "       [  0., -11.,  26.],\n",
       "       [ -1.,   3.,  38.],\n",
       "       [-13.,   2.,  34.],\n",
       "       [  8.,   2.,  29.],\n",
       "       [ -2., -10.,  39.],\n",
       "       [ 14.,   6.,  30.],\n",
       "       [  5.,  -1.,  33.],\n",
       "       [ -9.,   4.,  21.],\n",
       "       [ 17., -19.,  15.],\n",
       "       [ -8., -11.,  20.],\n",
       "       [  7.,  -9.,  38.],\n",
       "       [ -1.,  17.,  34.],\n",
       "       [-11.,  16.,  33.],\n",
       "       [-15.,   0.,  29.],\n",
       "       [ -4.,   4.,  16.],\n",
       "       [  8.,  10.,  15.],\n",
       "       [  8., -20.,  35.],\n",
       "       [-10.,   5.,  13.],\n",
       "       [-16.,   4.,  15.],\n",
       "       [ -9.,   3.,  22.],\n",
       "       [  2., -15.,  39.],\n",
       "       [  3.,  -9.,  26.],\n",
       "       [ 15., -11.,  26.],\n",
       "       [ 17., -15.,  24.],\n",
       "       [ 10.,  10.,  12.],\n",
       "       [ -8.,  13.,   8.],\n",
       "       [-16.,  18.,  18.],\n",
       "       [  7., -19.,  21.],\n",
       "       [-15.,  13.,  13.],\n",
       "       [ 11.,  -9.,  27.],\n",
       "       [  4.,  13.,   9.],\n",
       "       [  4., -19.,  30.],\n",
       "       [ 15.,  15.,  36.],\n",
       "       [-19.,  -1.,  15.],\n",
       "       [  9., -13.,  32.],\n",
       "       [  2., -20.,  23.],\n",
       "       [-18.,  12.,  10.],\n",
       "       [ 16., -17.,  20.],\n",
       "       [-15.,  -4.,  20.],\n",
       "       [ 16., -10.,  25.],\n",
       "       [-20.,   1.,  18.],\n",
       "       [ 18., -20.,  27.],\n",
       "       [ 18.,  -9.,   5.],\n",
       "       [-17.,  -8.,   5.],\n",
       "       [  5.,  11.,  30.],\n",
       "       [  8.,  19.,   6.],\n",
       "       [ -3., -12.,   5.],\n",
       "       [ -1.,  -4.,   6.],\n",
       "       [  0.,  19.,  33.],\n",
       "       [ 10.,  -2.,  28.],\n",
       "       [-12., -11.,  24.],\n",
       "       [  9.,   7.,  39.],\n",
       "       [ -8.,   3.,  39.],\n",
       "       [ 19., -11.,  23.],\n",
       "       [-16.,  19.,  40.],\n",
       "       [  5.,  -4.,  31.],\n",
       "       [  4.,  11.,  34.]], dtype=float32)"
      ]
     },
     "execution_count": 110,
     "metadata": {},
     "output_type": "execute_result"
    }
   ],
   "source": [
    "Y"
   ]
  },
  {
   "cell_type": "code",
   "execution_count": null,
   "metadata": {},
   "outputs": [],
   "source": []
  },
  {
   "cell_type": "code",
   "execution_count": null,
   "metadata": {},
   "outputs": [],
   "source": []
  },
  {
   "cell_type": "code",
   "execution_count": 111,
   "metadata": {},
   "outputs": [],
   "source": [
    "X_train, X_test, y_train, y_test = train_test_split(X, Y, test_size=0.33, random_state=111)\n"
   ]
  },
  {
   "cell_type": "code",
   "execution_count": 112,
   "metadata": {},
   "outputs": [],
   "source": [
    "# CNNを構築\n",
    "model = Sequential()\n",
    "\n",
    "model.add(Conv2D(32, (3, 3), padding='same',\n",
    "                 input_shape=X_train.shape[1:]))\n",
    "model.add(Activation('relu'))\n",
    "model.add(Conv2D(32, (3, 3)))\n",
    "model.add(BatchNormalization())\n",
    "model.add(Activation('relu'))\n",
    "model.add(MaxPooling2D(pool_size=(2, 2)))\n",
    "model.add(Dropout(0.25))\n",
    "\n",
    "model.add(Conv2D(64, (3, 3), padding='same'))\n",
    "model.add(Activation('relu'))\n",
    "model.add(Conv2D(64, (3, 3)))\n",
    "model.add(BatchNormalization())\n",
    "model.add(Activation('relu'))\n",
    "model.add(MaxPooling2D(pool_size=(2, 2)))\n",
    "model.add(Dropout(0.25))\n",
    "\n",
    "model.add(Flatten())\n",
    "model.add(Dense(512))\n",
    "model.add(Activation('relu'))\n",
    "model.add(Dropout(0.1))\n",
    "model.add(Dense(256))\n",
    "model.add(Activation('relu'))\n",
    "model.add(Dropout(0.1))\n",
    "model.add(Dense(3))\n",
    "# コンパイル\n",
    "model.compile(loss='mean_squared_error',\n",
    "              optimizer='adam',\n",
    "              metrics=['mean_squared_error'])\n",
    "\n"
   ]
  },
  {
   "cell_type": "code",
   "execution_count": 113,
   "metadata": {},
   "outputs": [
    {
     "name": "stdout",
     "output_type": "stream",
     "text": [
      "Epoch 1/10\n",
      "14/14 [==============================] - 4s 231ms/step - loss: 2106.4397 - mean_squared_error: 2106.4397 - val_loss: 281.6548 - val_mean_squared_error: 281.6548\n",
      "Epoch 2/10\n",
      "14/14 [==============================] - 3s 227ms/step - loss: 581.8940 - mean_squared_error: 581.8941 - val_loss: 249.2140 - val_mean_squared_error: 249.2140\n",
      "Epoch 3/10\n",
      "14/14 [==============================] - 3s 217ms/step - loss: 364.7708 - mean_squared_error: 364.7708 - val_loss: 205.0144 - val_mean_squared_error: 205.0144\n",
      "Epoch 4/10\n",
      "14/14 [==============================] - 3s 220ms/step - loss: 202.9964 - mean_squared_error: 202.9964 - val_loss: 221.8192 - val_mean_squared_error: 221.8192\n",
      "Epoch 5/10\n",
      "14/14 [==============================] - 3s 222ms/step - loss: 180.9601 - mean_squared_error: 180.9601 - val_loss: 169.5257 - val_mean_squared_error: 169.5257\n",
      "Epoch 6/10\n",
      "14/14 [==============================] - 4s 259ms/step - loss: 146.6031 - mean_squared_error: 146.6031 - val_loss: 159.2812 - val_mean_squared_error: 159.2812\n",
      "Epoch 7/10\n",
      "14/14 [==============================] - 4s 257ms/step - loss: 106.3137 - mean_squared_error: 106.3137 - val_loss: 153.7468 - val_mean_squared_error: 153.7468\n",
      "Epoch 8/10\n",
      "14/14 [==============================] - 3s 227ms/step - loss: 93.1951 - mean_squared_error: 93.1951 - val_loss: 161.2439 - val_mean_squared_error: 161.2439\n",
      "Epoch 9/10\n",
      "14/14 [==============================] - 3s 221ms/step - loss: 96.4655 - mean_squared_error: 96.4655 - val_loss: 153.9227 - val_mean_squared_error: 153.9227\n",
      "Epoch 10/10\n",
      "14/14 [==============================] - 3s 224ms/step - loss: 79.6896 - mean_squared_error: 79.6896 - val_loss: 151.7298 - val_mean_squared_error: 151.7298\n"
     ]
    }
   ],
   "source": [
    "# 実行。出力はなしで設定(verbose=0)。\n",
    "history = model.fit(X_train, y_train, batch_size=5, epochs=10,\n",
    "                   validation_data = (X_test, y_test))\n"
   ]
  },
  {
   "cell_type": "code",
   "execution_count": null,
   "metadata": {},
   "outputs": [],
   "source": []
  },
  {
   "cell_type": "code",
   "execution_count": 114,
   "metadata": {},
   "outputs": [
    {
     "data": {
      "image/png": "[encoded data removed]",
      "text/plain": [
       "<Figure size 432x288 with 1 Axes>"
      ]
     },
     "metadata": {
      "needs_background": "light"
     },
     "output_type": "display_data"
    }
   ],
   "source": [
    "plt.plot(history.history['loss'])\n",
    "plt.plot(history.history['val_loss'])\n",
    "plt.title('model accuracy')\n",
    "plt.xlabel('epoch')\n",
    "plt.ylabel('accuracy')\n",
    "plt.legend(['acc', 'val_acc'], loc='lower right')\n",
    "plt.show()"
   ]
  },
  {
   "cell_type": "code",
   "execution_count": 115,
   "metadata": {},
   "outputs": [
    {
     "data": {
      "text/plain": [
       "array([-8., 17., 36.], dtype=float32)"
      ]
     },
     "execution_count": 115,
     "metadata": {},
     "output_type": "execute_result"
    }
   ],
   "source": [
    "y_train[0]"
   ]
  },
  {
   "cell_type": "code",
   "execution_count": 116,
   "metadata": {},
   "outputs": [
    {
     "data": {
      "text/plain": [
       "array([[ 2.5894544 , -4.7751293 , 16.881922  ],\n",
       "       [ 2.5993423 , -4.975272  , 17.073952  ],\n",
       "       [ 3.0681818 , -3.2978218 , 11.8711405 ],\n",
       "       [ 1.7853779 , -4.405632  , 16.095757  ],\n",
       "       [ 1.0001962 , -2.1478755 , 10.817609  ],\n",
       "       [ 2.8641949 , -5.435833  , 16.48796   ],\n",
       "       [ 1.4438589 , -3.0190725 , 14.367168  ],\n",
       "       [ 0.86128455, -2.183766  , 16.789015  ],\n",
       "       [ 2.571446  , -4.8390107 , 17.282997  ],\n",
       "       [ 2.74768   , -4.827755  , 16.938904  ]], dtype=float32)"
      ]
     },
     "execution_count": 116,
     "metadata": {},
     "output_type": "execute_result"
    }
   ],
   "source": [
    "model.predict(X_test)[:10]"
   ]
  },
  {
   "cell_type": "code",
   "execution_count": 117,
   "metadata": {},
   "outputs": [
    {
     "data": {
      "text/plain": [
       "array([[ 18.,   9.,   7.],\n",
       "       [  7.,  -9.,  38.],\n",
       "       [ -1.,   3.,  38.],\n",
       "       [ -6., -12.,  21.],\n",
       "       [ -1.,  -4.,   6.],\n",
       "       [ 19.,  10.,  17.],\n",
       "       [ -3., -12.,   5.],\n",
       "       [  0.,  19.,  33.],\n",
       "       [ 10.,  -2.,  28.],\n",
       "       [-19.,  14.,  24.]], dtype=float32)"
      ]
     },
     "execution_count": 117,
     "metadata": {},
     "output_type": "execute_result"
    }
   ],
   "source": [
    "y_test[:10]"
   ]
  },
  {
   "cell_type": "markdown",
   "metadata": {},
   "source": [
    "https://jp.mathworks.com/help/deeplearning/ug/train-a-convolutional-neural-network-for-regression.html"
   ]
  },
  {
   "cell_type": "code",
   "execution_count": null,
   "metadata": {},
   "outputs": [],
   "source": [
    "#TODO: Normalization?\n"
   ]
  }
 ],
 "metadata": {
  "interpreter": {
   "hash": "300e5761ebde2b2bb7011c360549655aaa968a4bb618514aa4d40b70c5330d68"
  },
  "kernelspec": {
   "display_name": "Python 3",
   "language": "python",
   "name": "python3"
  },
  "language_info": {
   "codemirror_mode": {
    "name": "ipython",
    "version": 3
   },
   "file_extension": ".py",
   "mimetype": "text/x-python",
   "name": "python",
   "nbconvert_exporter": "python",
   "pygments_lexer": "ipython3",
   "version": "3.8.8"
  }
 },
 "nbformat": 4,
 "nbformat_minor": 4
}
